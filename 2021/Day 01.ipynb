{
 "cells": [
  {
   "cell_type": "markdown",
   "id": "a497e377",
   "metadata": {},
   "source": [
    "# Part 2\n",
    "\n",
    "Consider sums of a three-measurement sliding window. How many sums are larger than the previous sum?"
   ]
  },
  {
   "cell_type": "code",
   "execution_count": 1,
   "id": "f9366ecb",
   "metadata": {},
   "outputs": [],
   "source": [
    "with open('01_inputs.txt') as f:\n",
    "    out = f.read()"
   ]
  },
  {
   "cell_type": "code",
   "execution_count": 2,
   "id": "7f34d034",
   "metadata": {},
   "outputs": [],
   "source": [
    "entries = [int(x) for x in out.split('\\n')]"
   ]
  },
  {
   "cell_type": "code",
   "execution_count": 11,
   "id": "01a31b08",
   "metadata": {},
   "outputs": [],
   "source": [
    "sliding_sum = []\n",
    "\n",
    "for i in range(len(entries) - 2):\n",
    "    sliding_sum.append(sum(entries[i : i + 3]))"
   ]
  },
  {
   "cell_type": "code",
   "execution_count": 12,
   "id": "88e4b807",
   "metadata": {},
   "outputs": [],
   "source": [
    "count = 0\n",
    "\n",
    "for i in range(len(sliding_sum) - 1):\n",
    "    count += sliding_sum[i + 1] > sliding_sum[i]"
   ]
  },
  {
   "cell_type": "code",
   "execution_count": 13,
   "id": "533773da",
   "metadata": {},
   "outputs": [
    {
     "data": {
      "text/plain": [
       "1429"
      ]
     },
     "execution_count": 13,
     "metadata": {},
     "output_type": "execute_result"
    }
   ],
   "source": [
    "count"
   ]
  },
  {
   "cell_type": "code",
   "execution_count": null,
   "id": "9b15bedf",
   "metadata": {},
   "outputs": [],
   "source": []
  }
 ],
 "metadata": {
  "kernelspec": {
   "display_name": "Python 3 (ipykernel)",
   "language": "python",
   "name": "python3"
  },
  "language_info": {
   "codemirror_mode": {
    "name": "ipython",
    "version": 3
   },
   "file_extension": ".py",
   "mimetype": "text/x-python",
   "name": "python",
   "nbconvert_exporter": "python",
   "pygments_lexer": "ipython3",
   "version": "3.9.12"
  }
 },
 "nbformat": 4,
 "nbformat_minor": 5
}
