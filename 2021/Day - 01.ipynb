{
 "cells": [
  {
   "cell_type": "markdown",
   "id": "773d7a7e",
   "metadata": {},
   "source": [
    "# Part 1\n",
    "Find the two entries that sum to 2020 and then multiply those two numbers together"
   ]
  },
  {
   "cell_type": "code",
   "execution_count": 2,
   "id": "8db9e0e6",
   "metadata": {},
   "outputs": [],
   "source": [
    "with open('01_inputs.txt') as f:\n",
    "    out = f.read()"
   ]
  },
  {
   "cell_type": "code",
   "execution_count": 5,
   "id": "30d62cc9",
   "metadata": {},
   "outputs": [],
   "source": [
    "entries = [int(x) for x in out.split('\\n')]"
   ]
  },
  {
   "cell_type": "code",
   "execution_count": 8,
   "id": "5916ed25",
   "metadata": {},
   "outputs": [
    {
     "name": "stdout",
     "output_type": "stream",
     "text": [
      "776064\n"
     ]
    }
   ],
   "source": [
    "for i in range(len(entries)):\n",
    "    val1 = entries[i]\n",
    "    for j in range(i):\n",
    "        val2 = entries[j]\n",
    "        if val1 + val2 == 2020:\n",
    "            print(val1 * val2)\n",
    "            break"
   ]
  },
  {
   "cell_type": "markdown",
   "id": "78c9b2e4",
   "metadata": {},
   "source": [
    "# Part 2\n",
    "\n",
    "Find three numbers in your expense report that meet the same criteria."
   ]
  },
  {
   "cell_type": "code",
   "execution_count": 10,
   "id": "fb197cbc",
   "metadata": {},
   "outputs": [
    {
     "name": "stdout",
     "output_type": "stream",
     "text": [
      "6964490\n"
     ]
    }
   ],
   "source": [
    "for i in range(len(entries)):\n",
    "    val1 = entries[i]\n",
    "    \n",
    "    if val1 > 2020:\n",
    "        continue\n",
    "    \n",
    "    for j in range(i):\n",
    "        val2 = entries[j]\n",
    "        \n",
    "        if val1 + val2 > 2020:\n",
    "            continue\n",
    "        \n",
    "        for k in range(j):\n",
    "            val3 = entries[k]\n",
    "            if val1 + val2 + val3 == 2020:\n",
    "                print(val1 * val2 * val3)\n",
    "                break"
   ]
  }
 ],
 "metadata": {
  "kernelspec": {
   "display_name": "Python 3 (ipykernel)",
   "language": "python",
   "name": "python3"
  },
  "language_info": {
   "codemirror_mode": {
    "name": "ipython",
    "version": 3
   },
   "file_extension": ".py",
   "mimetype": "text/x-python",
   "name": "python",
   "nbconvert_exporter": "python",
   "pygments_lexer": "ipython3",
   "version": "3.9.12"
  }
 },
 "nbformat": 4,
 "nbformat_minor": 5
}
