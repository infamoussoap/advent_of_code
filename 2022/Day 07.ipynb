{
 "cells": [
  {
   "cell_type": "markdown",
   "id": "f930d6e7",
   "metadata": {},
   "source": [
    "# Part 1"
   ]
  },
  {
   "cell_type": "code",
   "execution_count": 79,
   "id": "41b46050",
   "metadata": {
    "code_folding": []
   },
   "outputs": [],
   "source": [
    "class File:\n",
    "    def __init__(self, name, size):\n",
    "        self.name = name\n",
    "        self.size = size\n",
    "        \n",
    "class Folder:\n",
    "    def __init__(self, name, previous_folder):\n",
    "        self.name = name\n",
    "        self.previous_folder = previous_folder\n",
    "        \n",
    "        self.contents = []\n",
    "       \n",
    "    @property\n",
    "    def size(self):\n",
    "        if len(self.contents) == 0:\n",
    "            return 0\n",
    "        return sum([file.size for file in self.contents])\n",
    "    \n",
    "    def get(self, name):\n",
    "        for file in self.contents:\n",
    "            if file.name == name:\n",
    "                return file\n",
    "            \n",
    "        raise ValueError(f\"{folder_name} is not in the current working directory\")\n",
    "    \n",
    "    def add(self, name, is_folder=True, size=None):\n",
    "        if is_folder:\n",
    "            self.contents.append(Folder(name, self))\n",
    "        else:\n",
    "            self.contents.append(File(name, size))\n",
    "            \n",
    "    def __repr__(self):\n",
    "        return f\"Folder {self.name} : {self.size}\""
   ]
  },
  {
   "cell_type": "code",
   "execution_count": 80,
   "id": "0f686cf4",
   "metadata": {
    "code_folding": []
   },
   "outputs": [],
   "source": [
    "class CommandLine:\n",
    "    def __init__(self):\n",
    "        self.root = Folder('/', None)\n",
    "        self.current_folder = self.root\n",
    "        \n",
    "    def __call__(self, command_result_list):\n",
    "        command = command_result_list[0]\n",
    "        \n",
    "        if command[2:4] == 'cd':\n",
    "            self._parse_cd(command)\n",
    "        elif command[2:4] == 'ls':\n",
    "            self._parse_ls(command_result_list[1:])\n",
    "        else:\n",
    "            raise ValueError(f\"{command} is not understood\")\n",
    "            \n",
    "    def _parse_cd(self, command):\n",
    "        folder_name = command[5:]\n",
    "        \n",
    "        if folder_name == '/':\n",
    "            self.current_folder = self.root\n",
    "        elif folder_name == '..':\n",
    "            self.current_folder = self.current_folder.previous_folder\n",
    "        else:\n",
    "            self.current_folder = self.current_folder.get(folder_name)\n",
    "                \n",
    "    def _parse_ls(self, ls_results):\n",
    "        for line in ls_results:\n",
    "            if line[:3] == 'dir':\n",
    "                folder_name = line[4:]\n",
    "                self.current_folder.add(folder_name, is_folder=True)\n",
    "            else:\n",
    "                size, name = line.split(' ')\n",
    "                self.current_folder.add(name, is_folder=False, size=int(size))"
   ]
  },
  {
   "cell_type": "code",
   "execution_count": 81,
   "id": "70cc5a3d",
   "metadata": {},
   "outputs": [],
   "source": [
    "def get_all_subfolders(folder):\n",
    "    subfolders = [folder]\n",
    "    for file in folder.contents:\n",
    "        if isinstance(file, Folder):\n",
    "            subfolders += get_all_subfolders(file)\n",
    "            \n",
    "    return subfolders"
   ]
  },
  {
   "cell_type": "code",
   "execution_count": 82,
   "id": "60df99b3",
   "metadata": {},
   "outputs": [],
   "source": [
    "with open('data/day07.txt', 'r') as file:\n",
    "    lines = file.readlines()"
   ]
  },
  {
   "cell_type": "code",
   "execution_count": 83,
   "id": "9c3b3c58",
   "metadata": {},
   "outputs": [],
   "source": [
    "commands = []\n",
    "current_command = []\n",
    "\n",
    "for line in lines:\n",
    "    cleaned_line = line.replace('\\n', '')\n",
    "    \n",
    "    if cleaned_line[0] == \"$\":\n",
    "        commands.append([cleaned_line])\n",
    "    else:\n",
    "        commands[-1].append(cleaned_line)"
   ]
  },
  {
   "cell_type": "code",
   "execution_count": 84,
   "id": "d0f4b14d",
   "metadata": {},
   "outputs": [],
   "source": [
    "terminal = CommandLine()\n",
    "\n",
    "for command_result_list in commands:\n",
    "    terminal(command_result_list)"
   ]
  },
  {
   "cell_type": "code",
   "execution_count": 85,
   "id": "21b465f4",
   "metadata": {},
   "outputs": [
    {
     "data": {
      "text/plain": [
       "41609574"
      ]
     },
     "execution_count": 85,
     "metadata": {},
     "output_type": "execute_result"
    }
   ],
   "source": [
    "terminal.root.size"
   ]
  },
  {
   "cell_type": "code",
   "execution_count": 86,
   "id": "ea0064b9",
   "metadata": {},
   "outputs": [],
   "source": [
    "limit = 100000\n",
    "folders = get_all_subfolders(terminal.root)\n",
    "\n",
    "total = 0\n",
    "for folder in folders:\n",
    "    folder_size = folder.size\n",
    "    if  folder_size <= limit:\n",
    "        total += folder_size"
   ]
  },
  {
   "cell_type": "code",
   "execution_count": 87,
   "id": "7198f19f",
   "metadata": {},
   "outputs": [
    {
     "data": {
      "text/plain": [
       "1778099"
      ]
     },
     "execution_count": 87,
     "metadata": {},
     "output_type": "execute_result"
    }
   ],
   "source": [
    "total"
   ]
  },
  {
   "cell_type": "markdown",
   "id": "be271892",
   "metadata": {},
   "source": [
    "# Part 2"
   ]
  },
  {
   "cell_type": "code",
   "execution_count": 88,
   "id": "a2f68dfe",
   "metadata": {},
   "outputs": [],
   "source": [
    "total_disk_space = 70000000\n",
    "required_space = 30000000\n",
    "\n",
    "total_used_space = terminal.root.size\n",
    "unused_space = total_disk_space - total_used_space\n",
    "\n",
    "space_to_be_freed = required_space - unused_space"
   ]
  },
  {
   "cell_type": "code",
   "execution_count": 89,
   "id": "11d58d1f",
   "metadata": {},
   "outputs": [
    {
     "data": {
      "text/plain": [
       "1609574"
      ]
     },
     "execution_count": 89,
     "metadata": {},
     "output_type": "execute_result"
    }
   ],
   "source": [
    "space_to_be_freed"
   ]
  },
  {
   "cell_type": "code",
   "execution_count": 90,
   "id": "60ae028d",
   "metadata": {},
   "outputs": [],
   "source": [
    "folders = get_all_subfolders(terminal.root)\n",
    "sorted_folders = sorted(folders, key=lambda x: x.size)"
   ]
  },
  {
   "cell_type": "code",
   "execution_count": 91,
   "id": "5eefbd0c",
   "metadata": {},
   "outputs": [
    {
     "name": "stdout",
     "output_type": "stream",
     "text": [
      "1623571\n"
     ]
    }
   ],
   "source": [
    "for folder in sorted_folders:\n",
    "    if folder.size >= space_to_be_freed:\n",
    "        print(folder.size)\n",
    "        break"
   ]
  }
 ],
 "metadata": {
  "kernelspec": {
   "display_name": "Python 3 (ipykernel)",
   "language": "python",
   "name": "python3"
  },
  "language_info": {
   "codemirror_mode": {
    "name": "ipython",
    "version": 3
   },
   "file_extension": ".py",
   "mimetype": "text/x-python",
   "name": "python",
   "nbconvert_exporter": "python",
   "pygments_lexer": "ipython3",
   "version": "3.10.6"
  }
 },
 "nbformat": 4,
 "nbformat_minor": 5
}
