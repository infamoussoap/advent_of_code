{
 "cells": [
  {
   "cell_type": "markdown",
   "id": "eb605759",
   "metadata": {},
   "source": [
    "# Part 1"
   ]
  },
  {
   "cell_type": "code",
   "execution_count": 1,
   "id": "04625e52",
   "metadata": {},
   "outputs": [],
   "source": [
    "class Section:\n",
    "    def __init__(self, start, end):\n",
    "        self.start = int(start)\n",
    "        self.end = int(end)\n",
    "        \n",
    "    def contains(self, section):\n",
    "        return self.start <= section.start and section.end <= self.end\n",
    "    \n",
    "    def overlaps(self, section):\n",
    "        return self._in(section.start) or self._in(section.end)\n",
    "    \n",
    "    def _in(self, index):\n",
    "        return self.start <= index <= self.end"
   ]
  },
  {
   "cell_type": "code",
   "execution_count": 2,
   "id": "705701bf",
   "metadata": {},
   "outputs": [],
   "source": [
    "with open('data/day04.txt', 'r') as file:\n",
    "    lines = file.readlines()"
   ]
  },
  {
   "cell_type": "code",
   "execution_count": 3,
   "id": "50f1051f",
   "metadata": {},
   "outputs": [],
   "source": [
    "counter = 0\n",
    "\n",
    "for line in lines:\n",
    "    cleaned_line = line.replace('\\n', '')\n",
    "    \n",
    "    assignment1, assignment2 = cleaned_line.split(',')\n",
    "    \n",
    "    section1 = Section(*assignment1.split('-'))\n",
    "    section2 = Section(*assignment2.split('-'))\n",
    "    \n",
    "    counter += section1.contains(section2) or section2.contains(section1)"
   ]
  },
  {
   "cell_type": "code",
   "execution_count": 4,
   "id": "46b43b2f",
   "metadata": {},
   "outputs": [
    {
     "data": {
      "text/plain": [
       "599"
      ]
     },
     "execution_count": 4,
     "metadata": {},
     "output_type": "execute_result"
    }
   ],
   "source": [
    "counter"
   ]
  },
  {
   "cell_type": "markdown",
   "id": "3f168d37",
   "metadata": {},
   "source": [
    "# Part 2"
   ]
  },
  {
   "cell_type": "code",
   "execution_count": 8,
   "id": "3c77dbbf",
   "metadata": {},
   "outputs": [],
   "source": [
    "with open('data/day04.txt', 'r') as file:\n",
    "    lines = file.readlines()"
   ]
  },
  {
   "cell_type": "code",
   "execution_count": 9,
   "id": "5f4db1da",
   "metadata": {},
   "outputs": [],
   "source": [
    "counter = 0\n",
    "\n",
    "for line in lines:\n",
    "    cleaned_line = line.replace('\\n', '')\n",
    "    \n",
    "    assignment1, assignment2 = cleaned_line.split(',')\n",
    "    \n",
    "    section1 = Section(*assignment1.split('-'))\n",
    "    section2 = Section(*assignment2.split('-'))\n",
    "    \n",
    "    counter += section1.overlaps(section2) or section2.overlaps(section1)"
   ]
  },
  {
   "cell_type": "code",
   "execution_count": 10,
   "id": "7832e876",
   "metadata": {},
   "outputs": [
    {
     "data": {
      "text/plain": [
       "928"
      ]
     },
     "execution_count": 10,
     "metadata": {},
     "output_type": "execute_result"
    }
   ],
   "source": [
    "counter"
   ]
  },
  {
   "cell_type": "code",
   "execution_count": null,
   "id": "91f5e356",
   "metadata": {},
   "outputs": [],
   "source": []
  },
  {
   "cell_type": "code",
   "execution_count": null,
   "id": "9f24202d",
   "metadata": {},
   "outputs": [],
   "source": []
  }
 ],
 "metadata": {
  "kernelspec": {
   "display_name": "Python 3 (ipykernel)",
   "language": "python",
   "name": "python3"
  },
  "language_info": {
   "codemirror_mode": {
    "name": "ipython",
    "version": 3
   },
   "file_extension": ".py",
   "mimetype": "text/x-python",
   "name": "python",
   "nbconvert_exporter": "python",
   "pygments_lexer": "ipython3",
   "version": "3.10.6"
  }
 },
 "nbformat": 4,
 "nbformat_minor": 5
}
