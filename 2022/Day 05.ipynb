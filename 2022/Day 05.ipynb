{
 "cells": [
  {
   "cell_type": "markdown",
   "id": "99a811fa",
   "metadata": {},
   "source": [
    "# Part 1"
   ]
  },
  {
   "cell_type": "code",
   "execution_count": 13,
   "id": "9e7bdcd4",
   "metadata": {},
   "outputs": [],
   "source": [
    "from collections import defaultdict\n",
    "\n",
    "from utils.day05 import read_file, parse_stack_line"
   ]
  },
  {
   "cell_type": "code",
   "execution_count": 14,
   "id": "f2126dff",
   "metadata": {},
   "outputs": [],
   "source": [
    "def move_item(elves, start_pos, end_pos):\n",
    "    item = elves[start_pos].pop()\n",
    "    elves[start_pos].append(item)"
   ]
  },
  {
   "cell_type": "code",
   "execution_count": 15,
   "id": "adfe99da",
   "metadata": {},
   "outputs": [],
   "source": [
    "starting_stacks, moves = read_file()"
   ]
  },
  {
   "cell_type": "code",
   "execution_count": 16,
   "id": "c5fd92b9",
   "metadata": {},
   "outputs": [],
   "source": [
    "num_elves = len(starting_stacks) + 1 // 3\n",
    "elves = defaultdict(list)\n",
    "\n",
    "for stacks in reversed(starting_stacks):\n",
    "    for i, item in enumerate(parse_stack_line(stacks)):\n",
    "        if item != '':\n",
    "            elves[i].append(item)"
   ]
  },
  {
   "cell_type": "code",
   "execution_count": 17,
   "id": "788d4868",
   "metadata": {},
   "outputs": [],
   "source": [
    "for move in moves:\n",
    "    move_count, start_pos, end_pos = move.split(' ')[1::2]\n",
    "    \n",
    "    for _ in range(int(move_count)):\n",
    "        move_item(elves, int(start_pos) - 1, int(end_pos) - 1)"
   ]
  },
  {
   "cell_type": "code",
   "execution_count": 18,
   "id": "f02326e2",
   "metadata": {},
   "outputs": [],
   "source": [
    "top_of_stack = ''\n",
    "for i in range (len(elves)):\n",
    "    top_of_stack += elves[i][-1]"
   ]
  },
  {
   "cell_type": "code",
   "execution_count": 19,
   "id": "61beda0b",
   "metadata": {},
   "outputs": [
    {
     "data": {
      "text/plain": [
       "'DSHZSSJQD'"
      ]
     },
     "execution_count": 19,
     "metadata": {},
     "output_type": "execute_result"
    }
   ],
   "source": [
    "top_of_stack"
   ]
  },
  {
   "cell_type": "markdown",
   "id": "1618c2aa",
   "metadata": {},
   "source": [
    "# Part 2"
   ]
  },
  {
   "cell_type": "code",
   "execution_count": 20,
   "id": "11d7af69",
   "metadata": {},
   "outputs": [],
   "source": [
    "def move_items(elves, start_pos, end_pos, num_items=1):\n",
    "    items = elves[start_pos]\n",
    "    \n",
    "    elves[end_pos] += items[-num_items:]\n",
    "    elves[start_pos] = items[:-num_items]"
   ]
  },
  {
   "cell_type": "code",
   "execution_count": 21,
   "id": "b406fa16",
   "metadata": {},
   "outputs": [],
   "source": [
    "starting_stacks, moves = read_file()"
   ]
  },
  {
   "cell_type": "code",
   "execution_count": 22,
   "id": "c6dc315d",
   "metadata": {},
   "outputs": [],
   "source": [
    "for move in moves:\n",
    "    move_count, start_pos, end_pos = move.split(' ')[1::2]\n",
    "    \n",
    "    move_items(elves, int(start_pos) - 1, int(end_pos) - 1, int(move_count))"
   ]
  },
  {
   "cell_type": "code",
   "execution_count": 23,
   "id": "0a9d25f7",
   "metadata": {},
   "outputs": [],
   "source": [
    "top_of_stack = ''\n",
    "for i in range (len(elves)):\n",
    "    top_of_stack += elves[i][-1]"
   ]
  },
  {
   "cell_type": "code",
   "execution_count": 90,
   "id": "4aa60ef6",
   "metadata": {},
   "outputs": [
    {
     "data": {
      "text/plain": [
       "'CQQBBJFCS'"
      ]
     },
     "execution_count": 90,
     "metadata": {},
     "output_type": "execute_result"
    }
   ],
   "source": [
    "top_of_stack"
   ]
  }
 ],
 "metadata": {
  "kernelspec": {
   "display_name": "Python 3 (ipykernel)",
   "language": "python",
   "name": "python3"
  },
  "language_info": {
   "codemirror_mode": {
    "name": "ipython",
    "version": 3
   },
   "file_extension": ".py",
   "mimetype": "text/x-python",
   "name": "python",
   "nbconvert_exporter": "python",
   "pygments_lexer": "ipython3",
   "version": "3.10.6"
  }
 },
 "nbformat": 4,
 "nbformat_minor": 5
}
