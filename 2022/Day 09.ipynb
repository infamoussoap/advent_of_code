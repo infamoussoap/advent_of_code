{
 "cells": [
  {
   "cell_type": "markdown",
   "id": "73ca4f4b",
   "metadata": {},
   "source": [
    "# Part 1"
   ]
  },
  {
   "cell_type": "code",
   "execution_count": 2,
   "id": "59793ac5",
   "metadata": {},
   "outputs": [],
   "source": [
    "import numpy as np"
   ]
  },
  {
   "cell_type": "code",
   "execution_count": 7,
   "id": "32fd23bc",
   "metadata": {},
   "outputs": [],
   "source": [
    "def non_zero_sign(x):\n",
    "    if x == 0:\n",
    "        return 0\n",
    "    elif x < 0:\n",
    "        return -1\n",
    "    return 1"
   ]
  },
  {
   "cell_type": "code",
   "execution_count": 19,
   "id": "905dcbda",
   "metadata": {},
   "outputs": [],
   "source": [
    "class Grid:\n",
    "    def __init__(self):\n",
    "        self.head_pos = [0, 0]\n",
    "        self.tail_pos = [0, 0]\n",
    "        \n",
    "        self.tail_pos_history = set()\n",
    "        self.tail_pos_history.add(str(self.tail_pos))\n",
    "    \n",
    "    def move(self, direction, count=1):\n",
    "        for _ in range(count):\n",
    "            self._move_head(direction)\n",
    "    \n",
    "    def _move_head(self, direction):\n",
    "        if direction == 'R':\n",
    "            self.head_pos[1] += 1\n",
    "        elif direction == 'L':\n",
    "            self.head_pos[1] -= 1\n",
    "        elif direction == 'U':\n",
    "            self.head_pos[0] += 1\n",
    "        elif direction == 'D':\n",
    "            self.head_pos[0] -= 1\n",
    "        else:\n",
    "            raise ValueError(f\"Direction {direction} not understood\")\n",
    "            \n",
    "        self._update_tail()\n",
    "        self.tail_pos_history.add(str(self.tail_pos))\n",
    "            \n",
    "    def _update_tail(self):\n",
    "        if not self._is_head_touching_tail(self.head_pos, self.tail_pos):\n",
    "            dx = self.head_pos[0] - self.tail_pos[0]\n",
    "            dy = self.head_pos[1] - self.tail_pos[1]\n",
    "            \n",
    "            self.tail_pos[0] += non_zero_sign(dx)\n",
    "            self.tail_pos[1] += non_zero_sign(dy)\n",
    "        \n",
    "    @staticmethod\n",
    "    def _is_head_touching_tail(head_pos, tail_pos):\n",
    "        if head_pos == tail_pos:\n",
    "            return True\n",
    "        \n",
    "        dx = abs(head_pos[0] - tail_pos[0])\n",
    "        dy = abs(head_pos[1] - tail_pos[1])\n",
    "        \n",
    "        return dx <= 1 and dy <= 1"
   ]
  },
  {
   "cell_type": "code",
   "execution_count": 26,
   "id": "647b9b56",
   "metadata": {},
   "outputs": [],
   "source": [
    "with open('data/day09.txt', 'r') as file:\n",
    "    lines = file.readlines()"
   ]
  },
  {
   "cell_type": "code",
   "execution_count": 27,
   "id": "300ecebf",
   "metadata": {},
   "outputs": [],
   "source": [
    "grid = Grid()"
   ]
  },
  {
   "cell_type": "code",
   "execution_count": 28,
   "id": "74844d45",
   "metadata": {},
   "outputs": [],
   "source": [
    "for line in lines:\n",
    "    cleaned_line = line.replace('\\n', '')\n",
    "    \n",
    "    direction, count = cleaned_line.split(' ')\n",
    "    count = int(count)\n",
    "    \n",
    "    grid.move(direction, count)"
   ]
  },
  {
   "cell_type": "code",
   "execution_count": 29,
   "id": "dadee884",
   "metadata": {},
   "outputs": [
    {
     "data": {
      "text/plain": [
       "6522"
      ]
     },
     "execution_count": 29,
     "metadata": {},
     "output_type": "execute_result"
    }
   ],
   "source": [
    "len(grid.tail_pos_history)"
   ]
  },
  {
   "cell_type": "markdown",
   "id": "6f5eec4c",
   "metadata": {},
   "source": [
    "# Part 2"
   ]
  },
  {
   "cell_type": "code",
   "execution_count": 51,
   "id": "937339fb",
   "metadata": {},
   "outputs": [],
   "source": [
    "class GridV2:\n",
    "    def __init__(self):\n",
    "        # Head is the first knot and the tail is the last knot\n",
    "        self.knots_pos = [[0, 0].copy() for _ in range(10)]\n",
    "        \n",
    "        self.tail_pos_history = set()\n",
    "        self.tail_pos_history.add(str(self.tail_pos))\n",
    "    \n",
    "    def move(self, direction, count=1):\n",
    "        for _ in range(count):\n",
    "            self._move_head(direction)\n",
    "    \n",
    "    def _move_head(self, direction):\n",
    "        if direction == 'R':\n",
    "            self.head_pos[1] += 1\n",
    "        elif direction == 'L':\n",
    "            self.head_pos[1] -= 1\n",
    "        elif direction == 'U':\n",
    "            self.head_pos[0] += 1\n",
    "        elif direction == 'D':\n",
    "            self.head_pos[0] -= 1\n",
    "        else:\n",
    "            raise ValueError(f\"Direction {direction} not understood\")\n",
    "            \n",
    "        self._update_tail_knots()\n",
    "        self.tail_pos_history.add(str(self.tail_pos))\n",
    "            \n",
    "    def _update_tail_knots(self):\n",
    "        for i in range(1, len(self.knots_pos)):\n",
    "            self._update_knot(i)\n",
    "        \n",
    "    def _update_knot(self, i):\n",
    "        assert i != 0, \"Can't update the head in this method\"\n",
    "        \n",
    "        previous_knot = self.knots_pos[i - 1]\n",
    "        current_knot = self.knots_pos[i]\n",
    "        \n",
    "        if not self._is_knots_touching(previous_knot, current_knot):\n",
    "            dx = previous_knot[0] - current_knot[0]\n",
    "            dy = previous_knot[1] - current_knot[1]\n",
    "            \n",
    "            current_knot[0] += non_zero_sign(dx)\n",
    "            current_knot[1] += non_zero_sign(dy)\n",
    "        \n",
    "        \n",
    "    @staticmethod\n",
    "    def _is_knots_touching(knot1, knot2):\n",
    "        if knot1 == knot2:\n",
    "            return True\n",
    "        \n",
    "        dx = abs(knot1[0] - knot2[0])\n",
    "        dy = abs(knot1[1] - knot2[1])\n",
    "        \n",
    "        return dx <= 1 and dy <= 1\n",
    "    \n",
    "    @property\n",
    "    def head_pos(self):\n",
    "        return self.knots_pos[0]\n",
    "    \n",
    "    @property\n",
    "    def tail_pos(self):\n",
    "        return self.knots_pos[-1]"
   ]
  },
  {
   "cell_type": "code",
   "execution_count": 60,
   "id": "4aca8928",
   "metadata": {},
   "outputs": [],
   "source": [
    "with open('data/day09.txt', 'r') as file:\n",
    "    lines = file.readlines()"
   ]
  },
  {
   "cell_type": "code",
   "execution_count": 61,
   "id": "ec94de37",
   "metadata": {},
   "outputs": [],
   "source": [
    "grid = GridV2()"
   ]
  },
  {
   "cell_type": "code",
   "execution_count": 62,
   "id": "678ffb49",
   "metadata": {},
   "outputs": [],
   "source": [
    "for line in lines:\n",
    "    cleaned_line = line.replace('\\n', '')\n",
    "    \n",
    "    direction, count = cleaned_line.split(' ')\n",
    "    count = int(count)\n",
    "    \n",
    "    grid.move(direction, count)"
   ]
  },
  {
   "cell_type": "code",
   "execution_count": 63,
   "id": "073f2404",
   "metadata": {},
   "outputs": [
    {
     "data": {
      "text/plain": [
       "2717"
      ]
     },
     "execution_count": 63,
     "metadata": {},
     "output_type": "execute_result"
    }
   ],
   "source": [
    "len(grid.tail_pos_history)"
   ]
  }
 ],
 "metadata": {
  "kernelspec": {
   "display_name": "Python 3 (ipykernel)",
   "language": "python",
   "name": "python3"
  },
  "language_info": {
   "codemirror_mode": {
    "name": "ipython",
    "version": 3
   },
   "file_extension": ".py",
   "mimetype": "text/x-python",
   "name": "python",
   "nbconvert_exporter": "python",
   "pygments_lexer": "ipython3",
   "version": "3.10.6"
  }
 },
 "nbformat": 4,
 "nbformat_minor": 5
}
