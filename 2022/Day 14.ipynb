{
 "cells": [
  {
   "cell_type": "markdown",
   "id": "95186b9d",
   "metadata": {},
   "source": [
    "# Part 1"
   ]
  },
  {
   "cell_type": "code",
   "execution_count": 3,
   "id": "e9181b24",
   "metadata": {},
   "outputs": [],
   "source": [
    "def non_zero_sign(x):\n",
    "    if x > 0:\n",
    "        return 1\n",
    "    elif x < 0:\n",
    "        return -1\n",
    "    return 0"
   ]
  },
  {
   "cell_type": "code",
   "execution_count": 68,
   "id": "68652957",
   "metadata": {},
   "outputs": [],
   "source": [
    "class Cave:\n",
    "    def __init__(self):\n",
    "        self.rock_locations = set()\n",
    "        self.sand_locations = set()\n",
    "        \n",
    "        self.max_y = 0\n",
    "        \n",
    "    def add_rock_coordinates(self, coordinates):\n",
    "        for coord1, coord2 in zip(coordinates[:-1], coordinates[1:]):\n",
    "            x1, y1 = [int(x) for x in coord1.split(\",\")]\n",
    "            x2, y2 = [int(x) for x in coord2.split(\",\")]\n",
    "\n",
    "            self.add_rock_location(x1, y1)\n",
    "            dx, dy = non_zero_sign(x1 - x2), non_zero_sign(y1 - y2)\n",
    "\n",
    "            delta = abs(x1 - x2) + abs(y1 - y2)\n",
    "            for i in range(1, delta + 1):\n",
    "                self.add_rock_location(x1 - i * dx, y1 - i * dy)\n",
    "                \n",
    "    def add_rock_location(self, x, y):\n",
    "        self.max_y = max(self.max_y, y)\n",
    "        \n",
    "        self.rock_locations.add(str((x, y)))\n",
    "            \n",
    "    def _is_location_blocked(self, x, y):\n",
    "        return str((x, y)) in self.rock_locations or str((x, y)) in self.sand_locations\n",
    "            \n",
    "    def add_sand(self, x, y):\n",
    "        if y > self.max_y:\n",
    "            return False\n",
    "        \n",
    "        elif not self._is_location_blocked(x, y + 1):\n",
    "            return self.add_sand(x, y + 1)\n",
    "        \n",
    "        elif not self._is_location_blocked(x - 1, y + 1):\n",
    "            return self.add_sand(x - 1, y + 1)\n",
    "        \n",
    "        elif not self._is_location_blocked(x + 1, y + 1):\n",
    "            return self.add_sand(x + 1, y + 1)\n",
    "        \n",
    "        else:\n",
    "            self._add_sand_location(x, y)\n",
    "            return True\n",
    "        \n",
    "    def _add_sand_location(self, x, y):\n",
    "        self.sand_locations.add(str((x, y)))"
   ]
  },
  {
   "cell_type": "code",
   "execution_count": 91,
   "id": "e40c7af2",
   "metadata": {},
   "outputs": [],
   "source": [
    "with open('data/day14.txt', 'r') as file:\n",
    "    lines = file.readlines()"
   ]
  },
  {
   "cell_type": "code",
   "execution_count": 92,
   "id": "618136dd",
   "metadata": {},
   "outputs": [],
   "source": [
    "cave = Cave()\n",
    "\n",
    "for line in lines:\n",
    "    cleaned_line = line.replace('\\n', '')\n",
    "    coordinates = cleaned_line.split(\" -> \")\n",
    "    \n",
    "    cave.add_rock_coordinates(coordinates)"
   ]
  },
  {
   "cell_type": "code",
   "execution_count": 93,
   "id": "acf792b7",
   "metadata": {},
   "outputs": [
    {
     "data": {
      "text/plain": [
       "172"
      ]
     },
     "execution_count": 93,
     "metadata": {},
     "output_type": "execute_result"
    }
   ],
   "source": [
    "cave.max_y"
   ]
  },
  {
   "cell_type": "code",
   "execution_count": 94,
   "id": "8ed01ffa",
   "metadata": {},
   "outputs": [],
   "source": [
    "counter = 0\n",
    "while cave.add_sand(500, 0):\n",
    "    counter += 1"
   ]
  },
  {
   "cell_type": "code",
   "execution_count": 95,
   "id": "8a98e8c0",
   "metadata": {},
   "outputs": [
    {
     "data": {
      "text/plain": [
       "885"
      ]
     },
     "execution_count": 95,
     "metadata": {},
     "output_type": "execute_result"
    }
   ],
   "source": [
    "counter"
   ]
  },
  {
   "cell_type": "markdown",
   "id": "9e2c7c2b",
   "metadata": {},
   "source": [
    "# Part 2"
   ]
  },
  {
   "cell_type": "code",
   "execution_count": 102,
   "id": "fa0f5939",
   "metadata": {},
   "outputs": [],
   "source": [
    "class CaveV2:\n",
    "    def __init__(self):\n",
    "        self.rock_locations = set()\n",
    "        self.sand_locations = set()\n",
    "        \n",
    "        self.max_y = 0\n",
    "        \n",
    "    def add_rock_coordinates(self, coordinates):\n",
    "        for coord1, coord2 in zip(coordinates[:-1], coordinates[1:]):\n",
    "            x1, y1 = [int(x) for x in coord1.split(\",\")]\n",
    "            x2, y2 = [int(x) for x in coord2.split(\",\")]\n",
    "\n",
    "            self.add_rock_location(x1, y1)\n",
    "            dx, dy = non_zero_sign(x1 - x2), non_zero_sign(y1 - y2)\n",
    "\n",
    "            delta = abs(x1 - x2) + abs(y1 - y2)\n",
    "            for i in range(1, delta + 1):\n",
    "                self.add_rock_location(x1 - i * dx, y1 - i * dy)\n",
    "                \n",
    "    def add_rock_location(self, x, y):\n",
    "        self.max_y = max(self.max_y, y)\n",
    "        \n",
    "        self.rock_locations.add(str((x, y)))\n",
    "            \n",
    "    def _is_location_blocked(self, x, y):\n",
    "        if y >= self.max_y + 2:\n",
    "            return True\n",
    "        \n",
    "        return str((x, y)) in self.rock_locations or str((x, y)) in self.sand_locations\n",
    "            \n",
    "    def add_sand(self, x, y):\n",
    "        if self._is_location_blocked(x, y):\n",
    "            return False\n",
    "        \n",
    "        if not self._is_location_blocked(x, y + 1):\n",
    "            return self.add_sand(x, y + 1)\n",
    "        \n",
    "        elif not self._is_location_blocked(x - 1, y + 1):\n",
    "            return self.add_sand(x - 1, y + 1)\n",
    "        \n",
    "        elif not self._is_location_blocked(x + 1, y + 1):\n",
    "            return self.add_sand(x + 1, y + 1)\n",
    "        \n",
    "        else:\n",
    "            self._add_sand_location(x, y)\n",
    "            return (x, y)\n",
    "        \n",
    "    def _add_sand_location(self, x, y):\n",
    "        self.sand_locations.add(str((x, y)))"
   ]
  },
  {
   "cell_type": "code",
   "execution_count": 119,
   "id": "130e1538",
   "metadata": {},
   "outputs": [],
   "source": [
    "with open('data/day14.txt', 'r') as file:\n",
    "    lines = file.readlines()\n",
    "\n",
    "cave = CaveV2()\n",
    "\n",
    "for line in lines:\n",
    "    cleaned_line = line.replace('\\n', '')\n",
    "    coordinates = cleaned_line.split(\" -> \")\n",
    "    \n",
    "    cave.add_rock_coordinates(coordinates)"
   ]
  },
  {
   "cell_type": "code",
   "execution_count": 120,
   "id": "37a881ac",
   "metadata": {},
   "outputs": [
    {
     "data": {
      "text/plain": [
       "172"
      ]
     },
     "execution_count": 120,
     "metadata": {},
     "output_type": "execute_result"
    }
   ],
   "source": [
    "cave.max_y"
   ]
  },
  {
   "cell_type": "code",
   "execution_count": 121,
   "id": "5d746e35",
   "metadata": {
    "scrolled": true
   },
   "outputs": [],
   "source": [
    "counter = 0\n",
    "while cave.add_sand(500, 0):\n",
    "    counter += 1"
   ]
  },
  {
   "cell_type": "code",
   "execution_count": 122,
   "id": "47b13b9c",
   "metadata": {},
   "outputs": [
    {
     "data": {
      "text/plain": [
       "28691"
      ]
     },
     "execution_count": 122,
     "metadata": {},
     "output_type": "execute_result"
    }
   ],
   "source": [
    "counter"
   ]
  }
 ],
 "metadata": {
  "kernelspec": {
   "display_name": "Python 3 (ipykernel)",
   "language": "python",
   "name": "python3"
  },
  "language_info": {
   "codemirror_mode": {
    "name": "ipython",
    "version": 3
   },
   "file_extension": ".py",
   "mimetype": "text/x-python",
   "name": "python",
   "nbconvert_exporter": "python",
   "pygments_lexer": "ipython3",
   "version": "3.10.6"
  }
 },
 "nbformat": 4,
 "nbformat_minor": 5
}
