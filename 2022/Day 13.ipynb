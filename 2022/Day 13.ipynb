{
 "cells": [
  {
   "cell_type": "markdown",
   "id": "cfdcec22",
   "metadata": {},
   "source": [
    "# Part 1"
   ]
  },
  {
   "cell_type": "code",
   "execution_count": 3,
   "id": "5c42f417",
   "metadata": {
    "code_folding": []
   },
   "outputs": [],
   "source": [
    "def compare(left_value, right_value):\n",
    "    if (not isinstance(left_value, list)) and (not isinstance(right_value, list)):\n",
    "        if left_value < right_value:\n",
    "            return True\n",
    "        elif left_value > right_value:\n",
    "            return False\n",
    "        return None\n",
    "    \n",
    "    elif isinstance(left_value, list) and isinstance(right_value, list):\n",
    "        N = len(left_value)\n",
    "        for i in range(N):\n",
    "            if i + 1 > len(right_value):\n",
    "                return False\n",
    "            \n",
    "            val = compare(left_value[i], right_value[i])\n",
    "            if val is not None:\n",
    "                return val\n",
    "            \n",
    "        if len(left_value) < len(right_value):\n",
    "            return True\n",
    "        \n",
    "        return None\n",
    "    elif isinstance(left_value, list):\n",
    "        return compare(left_value, [right_value])\n",
    "    \n",
    "    elif isinstance(right_value, list):\n",
    "        return compare([left_value], right_value)"
   ]
  },
  {
   "cell_type": "code",
   "execution_count": 4,
   "id": "666d5c50",
   "metadata": {
    "code_folding": []
   },
   "outputs": [],
   "source": [
    "def parse_list(l):\n",
    "    stack = [[]]\n",
    "    current_char = ''\n",
    "    \n",
    "    for char in l:\n",
    "        if char == '[':\n",
    "            stack.append([])\n",
    "        elif char == ']':\n",
    "            if current_char != '':\n",
    "                stack[-1].append(int(current_char))\n",
    "                current_char = ''\n",
    "            \n",
    "            val = stack.pop()\n",
    "            stack[-1].append(val)\n",
    "        elif char == ',':\n",
    "            if current_char != '':\n",
    "                stack[-1].append(int(current_char))\n",
    "                current_char = ''\n",
    "        else:\n",
    "            current_char += char\n",
    "            \n",
    "    return stack[0][0]"
   ]
  },
  {
   "cell_type": "code",
   "execution_count": 5,
   "id": "c5fe61d2",
   "metadata": {},
   "outputs": [],
   "source": [
    "with open('data/day13.txt', 'r') as file:\n",
    "    lines = file.readlines()\n",
    "    \n",
    "\n",
    "cleaned_lines = [line.replace('\\n', '') for line in lines]\n",
    "\n",
    "packets = []\n",
    "for left_value, right_value in zip(cleaned_lines[::3], cleaned_lines[1::3]):\n",
    "    packets.append(parse_list(left_value))\n",
    "    packets.append(parse_list(right_value))"
   ]
  },
  {
   "cell_type": "code",
   "execution_count": 6,
   "id": "5e42bb34",
   "metadata": {},
   "outputs": [],
   "source": [
    "with open('data/day13.txt', 'r') as file:\n",
    "    lines = file.readlines()\n",
    "    \n",
    "cleaned_lines = [line.replace('\\n', '') for line in lines]"
   ]
  },
  {
   "cell_type": "code",
   "execution_count": 7,
   "id": "b502ebbe",
   "metadata": {},
   "outputs": [],
   "source": [
    "counter = 0\n",
    "\n",
    "for i, (left_value, right_value) in enumerate(zip(cleaned_lines[::3], cleaned_lines[1::3])):\n",
    "    val = compare(parse_list(left_value), parse_list(right_value))\n",
    "    counter += (i + 1) * val"
   ]
  },
  {
   "cell_type": "code",
   "execution_count": 8,
   "id": "cbf25ba1",
   "metadata": {},
   "outputs": [
    {
     "data": {
      "text/plain": [
       "5340"
      ]
     },
     "execution_count": 8,
     "metadata": {},
     "output_type": "execute_result"
    }
   ],
   "source": [
    "counter"
   ]
  },
  {
   "cell_type": "markdown",
   "id": "1acd0378",
   "metadata": {},
   "source": [
    "# Part 2"
   ]
  },
  {
   "cell_type": "code",
   "execution_count": 9,
   "id": "8f371cda",
   "metadata": {},
   "outputs": [],
   "source": [
    "with open('data/day13.txt', 'r') as file:\n",
    "    lines = file.readlines()\n",
    "    \n",
    "\n",
    "cleaned_lines = [line.replace('\\n', '') for line in lines]\n",
    "\n",
    "packets = []\n",
    "for left_value, right_value in zip(cleaned_lines[::3], cleaned_lines[1::3]):\n",
    "    packets.append(parse_list(left_value))\n",
    "    packets.append(parse_list(right_value))\n",
    "    \n",
    "packets.append([[2]])\n",
    "packets.append([[6]])"
   ]
  },
  {
   "cell_type": "code",
   "execution_count": 10,
   "id": "b22f79f6",
   "metadata": {},
   "outputs": [],
   "source": [
    "def binary_sort(packets):\n",
    "    if len(packets) == 1 or len(packets) == 0:\n",
    "        return packets\n",
    "    \n",
    "    pivot = packets[0]\n",
    "\n",
    "    left_of_pivot = []\n",
    "    right_of_pivot = []\n",
    "    \n",
    "    for packet in packets[1:]:\n",
    "        if not compare(pivot, packet):\n",
    "            left_of_pivot.append(packet)\n",
    "        else:\n",
    "            right_of_pivot.append(packet)\n",
    "            \n",
    "    return binary_sort(left_of_pivot) + [pivot] + binary_sort(right_of_pivot)"
   ]
  },
  {
   "cell_type": "code",
   "execution_count": 11,
   "id": "31e05a46",
   "metadata": {},
   "outputs": [],
   "source": [
    "counter = 1\n",
    "\n",
    "sorted_packets = binary_sort(packets)\n",
    "for i, packet in enumerate(sorted_packets):\n",
    "    if packet == [[2]] or packet == [[6]]:\n",
    "        counter *= i + 1"
   ]
  },
  {
   "cell_type": "code",
   "execution_count": 12,
   "id": "b28423e1",
   "metadata": {},
   "outputs": [
    {
     "data": {
      "text/plain": [
       "21276"
      ]
     },
     "execution_count": 12,
     "metadata": {},
     "output_type": "execute_result"
    }
   ],
   "source": [
    "counter"
   ]
  }
 ],
 "metadata": {
  "kernelspec": {
   "display_name": "Python 3 (ipykernel)",
   "language": "python",
   "name": "python3"
  },
  "language_info": {
   "codemirror_mode": {
    "name": "ipython",
    "version": 3
   },
   "file_extension": ".py",
   "mimetype": "text/x-python",
   "name": "python",
   "nbconvert_exporter": "python",
   "pygments_lexer": "ipython3",
   "version": "3.10.6"
  }
 },
 "nbformat": 4,
 "nbformat_minor": 5
}
