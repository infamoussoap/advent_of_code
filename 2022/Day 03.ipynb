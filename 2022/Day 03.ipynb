{
 "cells": [
  {
   "cell_type": "markdown",
   "id": "149fe42b",
   "metadata": {},
   "source": [
    "# Part 1"
   ]
  },
  {
   "cell_type": "code",
   "execution_count": 1,
   "id": "2be68fe7",
   "metadata": {},
   "outputs": [],
   "source": [
    "import numpy as np\n",
    "from functools import reduce"
   ]
  },
  {
   "cell_type": "code",
   "execution_count": 2,
   "id": "1ccaae2a",
   "metadata": {},
   "outputs": [],
   "source": [
    "NUM_ITEMS = ord('z') - ord('A') + 1\n",
    "\n",
    "def count_items(item):\n",
    "    counter = np.zeros(NUM_ITEMS)\n",
    "    \n",
    "    for char in item:\n",
    "        counter[ord(char) - ord('A')] += 1\n",
    "    \n",
    "    return counter\n",
    "\n",
    "def get_common_items(item1, item2):\n",
    "    counted_items1 = count_items(item1)\n",
    "    counted_items2 = count_items(item2)\n",
    "    \n",
    "    common_items_index = np.argwhere(counted_items1 * counted_items2).flatten()\n",
    "    \n",
    "    return [chr(x + ord('A')) for x in common_items_index]\n",
    "\n",
    "def item_priority(item):\n",
    "    if ord('A') <= ord(item) <= ord('Z'):\n",
    "        return ord(item) - ord('A') + 27\n",
    "    \n",
    "    return ord(item) - ord('a') + 1"
   ]
  },
  {
   "cell_type": "code",
   "execution_count": 3,
   "id": "1282b4c8",
   "metadata": {},
   "outputs": [],
   "source": [
    "with open('data/day03.txt', 'r') as file:\n",
    "    lines = file.readlines()"
   ]
  },
  {
   "cell_type": "code",
   "execution_count": 4,
   "id": "391a9583",
   "metadata": {},
   "outputs": [],
   "source": [
    "counter = 0\n",
    "\n",
    "for line in lines:\n",
    "    cleaned_line = line.replace(\"\\n\", \"\")\n",
    "    \n",
    "    middle_index = len(cleaned_line) // 2\n",
    "    \n",
    "    item1 = cleaned_line[:middle_index]\n",
    "    item2 = cleaned_line[middle_index:]\n",
    "    \n",
    "    common_items = get_common_items(item1, item2)\n",
    "    \n",
    "    counter += sum([item_priority(item) for item in common_items])"
   ]
  },
  {
   "cell_type": "code",
   "execution_count": 5,
   "id": "320a70c6",
   "metadata": {},
   "outputs": [
    {
     "data": {
      "text/plain": [
       "8243"
      ]
     },
     "execution_count": 5,
     "metadata": {},
     "output_type": "execute_result"
    }
   ],
   "source": [
    "counter"
   ]
  },
  {
   "cell_type": "markdown",
   "id": "2076278d",
   "metadata": {},
   "source": [
    "# Part 2"
   ]
  },
  {
   "cell_type": "code",
   "execution_count": 6,
   "id": "af651b63",
   "metadata": {},
   "outputs": [],
   "source": [
    "def get_common_items(*items):\n",
    "    \"\"\" Rewritten to accept an arbitrary amount of items \"\"\"\n",
    "    indexed_items = [count_items(item_list) for item_list in items]\n",
    "    \n",
    "    common_items = reduce(lambda x, y: x * y, indexed_items, 1)\n",
    "    common_items_index = np.argwhere(common_items).flatten()\n",
    "    \n",
    "    return [chr(x + ord('A')) for x in common_items_index]"
   ]
  },
  {
   "cell_type": "code",
   "execution_count": 7,
   "id": "d3fb1efb",
   "metadata": {},
   "outputs": [],
   "source": [
    "current_rucksack = []\n",
    "line_counter = 0\n",
    "counter = 0\n",
    "\n",
    "for line in lines:\n",
    "    cleaned_line = line.replace(\"\\n\", \"\")\n",
    "        \n",
    "    line_counter += 1\n",
    "    current_rucksack.append(cleaned_line)\n",
    "    \n",
    "    if line_counter == 3:\n",
    "        common_items = get_common_items(*current_rucksack)\n",
    "        counter += sum([item_priority(item) for item in common_items])\n",
    "        \n",
    "        line_counter = 0\n",
    "        current_rucksack = []"
   ]
  },
  {
   "cell_type": "code",
   "execution_count": 8,
   "id": "87ae14b4",
   "metadata": {},
   "outputs": [
    {
     "data": {
      "text/plain": [
       "2631"
      ]
     },
     "execution_count": 8,
     "metadata": {},
     "output_type": "execute_result"
    }
   ],
   "source": [
    "counter"
   ]
  },
  {
   "cell_type": "code",
   "execution_count": null,
   "id": "47199a37",
   "metadata": {},
   "outputs": [],
   "source": []
  }
 ],
 "metadata": {
  "kernelspec": {
   "display_name": "Python 3 (ipykernel)",
   "language": "python",
   "name": "python3"
  },
  "language_info": {
   "codemirror_mode": {
    "name": "ipython",
    "version": 3
   },
   "file_extension": ".py",
   "mimetype": "text/x-python",
   "name": "python",
   "nbconvert_exporter": "python",
   "pygments_lexer": "ipython3",
   "version": "3.10.6"
  }
 },
 "nbformat": 4,
 "nbformat_minor": 5
}
