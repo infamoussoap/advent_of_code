{
 "cells": [
  {
   "cell_type": "markdown",
   "id": "839e0359",
   "metadata": {},
   "source": [
    "# Part 1"
   ]
  },
  {
   "cell_type": "code",
   "execution_count": 224,
   "id": "28edce7b",
   "metadata": {},
   "outputs": [],
   "source": [
    "import numpy as np\n",
    "import matplotlib.pyplot as plt"
   ]
  },
  {
   "cell_type": "code",
   "execution_count": 257,
   "id": "67ae2392",
   "metadata": {},
   "outputs": [],
   "source": [
    "# Stolen from\n",
    "# https://www.geeksforgeeks.org/building-an-undirected-graph-and-finding-shortest-path-using-dictionaries-in-python/\n",
    "def BFS_SP(start, goal):\n",
    "    explored = []\n",
    "\n",
    "    queue = [[start]]\n",
    "\n",
    "    if start == goal:\n",
    "        return [start]\n",
    "    \n",
    "    while queue:\n",
    "        path = queue.pop(0)\n",
    "        node = path[-1]\n",
    "\n",
    "        if node not in explored:\n",
    "            neighbours = node.neighbours\n",
    "            \n",
    "            for neighbour in neighbours:\n",
    "                new_path = list(path)\n",
    "                new_path.append(neighbour)\n",
    "                queue.append(new_path)\n",
    "                \n",
    "                if neighbour == goal:\n",
    "                    return new_path\n",
    "            explored.append(node)\n",
    "    \n",
    "    return []"
   ]
  },
  {
   "cell_type": "code",
   "execution_count": 297,
   "id": "7265f318",
   "metadata": {
    "code_folding": [
     16,
     20
    ]
   },
   "outputs": [],
   "source": [
    "class Node:\n",
    "    def __init__(self, location, elevation_level):\n",
    "        self.location = location\n",
    "        self.elevation = elevation_level\n",
    "        self.neighbours = []\n",
    "        \n",
    "    def add(self, node):\n",
    "        if node not in self.neighbours:\n",
    "            self.neighbours.append(node)\n",
    "\n",
    "    def __repr__(self):\n",
    "        return f\"{self.location} : {self.elevation}\"\n",
    "    \n",
    "    def __sub__(self, node):\n",
    "        return self.elevation - node.elevation\n",
    "            \n",
    "class Start(Node):\n",
    "    def __init__(self, location, elevation_level):\n",
    "        super().__init__(location, elevation_level)\n",
    "        \n",
    "class End(Node):\n",
    "    def __init__(self, location, elevation_level):\n",
    "        super().__init__(location, elevation_level)"
   ]
  },
  {
   "cell_type": "code",
   "execution_count": 311,
   "id": "08df7dc6",
   "metadata": {
    "code_folding": []
   },
   "outputs": [],
   "source": [
    "class Map:\n",
    "    def __init__(self, elevation_levels):\n",
    "        self.start, self.end, self.elevation_levels = self._parse_elevation_levels(elevation_levels)\n",
    "        \n",
    "        self._generate_graph()\n",
    "        \n",
    "    @staticmethod\n",
    "    def _parse_elevation_levels(alpha_numeric_elevation_levels):\n",
    "        n, m = alpha_numeric_elevation_levels.shape\n",
    "        elevation_levels = np.zeros((n, m), dtype=object)\n",
    "        \n",
    "        for i in range(n):\n",
    "            for j in range(m):\n",
    "                val = alpha_numeric_elevation_levels[i, j]\n",
    "                if val == 'S':\n",
    "                    elevation_levels[i, j] = Start([i, j], -1)\n",
    "                    start = elevation_levels[i, j]\n",
    "                elif val == 'E':\n",
    "                    elevation_levels[i, j] = End([i, j], ord('z') - ord('a'))\n",
    "                    end = elevation_levels[i, j]\n",
    "                else:\n",
    "                    elevation_levels[i, j] = Node([i, j], ord(val) - ord('a'))\n",
    "                    \n",
    "        return start, end, elevation_levels\n",
    "    \n",
    "    def _generate_graph(self):\n",
    "        n, m = self.elevation_levels.shape\n",
    "\n",
    "        for i in range(n):\n",
    "            for j in range(m):\n",
    "                current_node = self[i, j]\n",
    "                new_positions = [[i - 1, j], [i + 1, j], [i, j - 1], [i, j + 1]]\n",
    "\n",
    "                for new_i, new_j in new_positions:\n",
    "                    if 0 <= new_i <= n - 1 and 0 <= new_j <= m - 1:\n",
    "                        new_node = self[new_i, new_j]\n",
    "                        if new_node.elevation <= current_node.elevation + 1:\n",
    "                            current_node.add(new_node)\n",
    "    \n",
    "    def __getitem__(self, *args):\n",
    "        return self.elevation_levels.__getitem__(*args)"
   ]
  },
  {
   "cell_type": "code",
   "execution_count": 344,
   "id": "9cd28c7b",
   "metadata": {},
   "outputs": [],
   "source": [
    "with open('data/day12.txt', 'r') as file:\n",
    "    lines = file.readlines()\n",
    "    \n",
    "elevation_levels = np.array([[x for x in line.replace('\\n', '')] \n",
    "                             for line in lines])"
   ]
  },
  {
   "cell_type": "code",
   "execution_count": 345,
   "id": "17a73633",
   "metadata": {},
   "outputs": [],
   "source": [
    "topography_map = Map(elevation_levels)"
   ]
  },
  {
   "cell_type": "code",
   "execution_count": 346,
   "id": "50dd93d8",
   "metadata": {},
   "outputs": [],
   "source": [
    "start = topography_map.start\n",
    "end = topography_map.end"
   ]
  },
  {
   "cell_type": "code",
   "execution_count": 347,
   "id": "da5fec8c",
   "metadata": {},
   "outputs": [],
   "source": [
    "path = BFS_SP(start, end)"
   ]
  },
  {
   "cell_type": "code",
   "execution_count": 348,
   "id": "33c939dd",
   "metadata": {},
   "outputs": [
    {
     "data": {
      "text/plain": [
       "352"
      ]
     },
     "execution_count": 348,
     "metadata": {},
     "output_type": "execute_result"
    }
   ],
   "source": [
    "len(path) - 1"
   ]
  },
  {
   "cell_type": "markdown",
   "id": "9347b3c4",
   "metadata": {},
   "source": [
    "# Part 2"
   ]
  },
  {
   "cell_type": "code",
   "execution_count": 349,
   "id": "e7d6648d",
   "metadata": {},
   "outputs": [],
   "source": [
    "starting_positions = [x for x in topography_map.elevation_levels.flatten() if x.elevation == 1]"
   ]
  },
  {
   "cell_type": "code",
   "execution_count": 350,
   "id": "ab4bf441",
   "metadata": {},
   "outputs": [],
   "source": [
    "paths = [len(BFS_SP(start, end)) for start in starting_positions]"
   ]
  },
  {
   "cell_type": "code",
   "execution_count": 351,
   "id": "f1658fdd",
   "metadata": {
    "scrolled": true
   },
   "outputs": [
    {
     "data": {
      "text/plain": [
       "345"
      ]
     },
     "execution_count": 351,
     "metadata": {},
     "output_type": "execute_result"
    }
   ],
   "source": [
    "sorted(paths)[0]"
   ]
  }
 ],
 "metadata": {
  "kernelspec": {
   "display_name": "Python 3 (ipykernel)",
   "language": "python",
   "name": "python3"
  },
  "language_info": {
   "codemirror_mode": {
    "name": "ipython",
    "version": 3
   },
   "file_extension": ".py",
   "mimetype": "text/x-python",
   "name": "python",
   "nbconvert_exporter": "python",
   "pygments_lexer": "ipython3",
   "version": "3.10.6"
  }
 },
 "nbformat": 4,
 "nbformat_minor": 5
}
