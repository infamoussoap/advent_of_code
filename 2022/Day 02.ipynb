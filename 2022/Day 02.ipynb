{
 "cells": [
  {
   "cell_type": "markdown",
   "id": "149fe42b",
   "metadata": {},
   "source": [
    "# Part 1"
   ]
  },
  {
   "cell_type": "code",
   "execution_count": 9,
   "id": "44a8890b",
   "metadata": {},
   "outputs": [],
   "source": [
    "outcome_table = {\"Rock\": {\"Rock\": \"Tie\", \"Paper\": \"Lose\", \"Scissors\": \"Win\"},\n",
    "                 \"Paper\": {\"Rock\": \"Win\", \"Paper\": \"Tie\", \"Scissors\": \"Lose\"},\n",
    "                 \"Scissors\": {\"Rock\": \"Lose\", \"Paper\": \"Win\", \"Scissors\": \"Tie\"}}"
   ]
  },
  {
   "cell_type": "code",
   "execution_count": 4,
   "id": "2a708bfe",
   "metadata": {},
   "outputs": [],
   "source": [
    "def parse_left_move(s):\n",
    "    if s == \"A\":\n",
    "        return \"Rock\"\n",
    "    elif s == \"B\":\n",
    "        return \"Paper\"\n",
    "    elif s == \"C\":\n",
    "        return \"Scissors\"\n",
    "    raise ValueError(s + \" is invalid.\")\n",
    "    \n",
    "def parse_right_move(s):\n",
    "    if s == \"X\":\n",
    "        return \"Rock\"\n",
    "    elif s == \"Y\":\n",
    "        return \"Paper\"\n",
    "    elif s == \"Z\":\n",
    "        return \"Scissors\"\n",
    "    raise ValueError(s + \" is invalid.\")\n",
    "    \n",
    "def move_score(move):\n",
    "    if move == \"Rock\":\n",
    "        return 1\n",
    "    elif move == \"Paper\":\n",
    "        return 2\n",
    "    elif move == \"Scissors\":\n",
    "        return 3\n",
    "    \n",
    "    raise ValueError(move + \" is invalid.\")\n",
    "    \n",
    "def outcome_score(outcome):\n",
    "    if outcome == \"Lose\":\n",
    "        return 0\n",
    "    elif outcome == \"Tie\":\n",
    "        return 3\n",
    "    elif outcome == \"Win\":\n",
    "        return 6\n",
    "    raise ValueError(outcome + \" is invalid.\")"
   ]
  },
  {
   "cell_type": "code",
   "execution_count": 14,
   "id": "fec89fd7",
   "metadata": {},
   "outputs": [],
   "source": [
    "with open('day02.txt', 'r') as file:\n",
    "    lines = file.readlines()"
   ]
  },
  {
   "cell_type": "code",
   "execution_count": 15,
   "id": "c6168a24",
   "metadata": {},
   "outputs": [],
   "source": [
    "total = 0\n",
    "\n",
    "for line in lines:\n",
    "    cleaned_line = line.replace('\\n', '')\n",
    "    \n",
    "    left_move, right_move = cleaned_line.split(\" \")\n",
    "    \n",
    "    left_move = parse_left_move(left_move)\n",
    "    right_move = parse_right_move(right_move)\n",
    "    \n",
    "    outcome = outcome_table[right_move][left_move]\n",
    "    \n",
    "    score = outcome_score(outcome) + move_score(right_move)\n",
    "    \n",
    "    total += score"
   ]
  },
  {
   "cell_type": "code",
   "execution_count": 16,
   "id": "e503f441",
   "metadata": {},
   "outputs": [
    {
     "data": {
      "text/plain": [
       "14069"
      ]
     },
     "execution_count": 16,
     "metadata": {},
     "output_type": "execute_result"
    }
   ],
   "source": [
    "total"
   ]
  },
  {
   "cell_type": "markdown",
   "id": "3471b7bb",
   "metadata": {},
   "source": [
    "# Part 2"
   ]
  },
  {
   "cell_type": "code",
   "execution_count": 26,
   "id": "4b37a582",
   "metadata": {},
   "outputs": [],
   "source": [
    "def parse_right_outcome(s):\n",
    "    if s == \"X\":\n",
    "        return \"Lose\"\n",
    "    elif s == \"Y\":\n",
    "        return \"Tie\"\n",
    "    elif s == \"Z\":\n",
    "        return \"Win\"\n",
    "    \n",
    "    raise ValueError(f\"{s} is invalid\")"
   ]
  },
  {
   "cell_type": "code",
   "execution_count": 30,
   "id": "4d7db3ff",
   "metadata": {},
   "outputs": [],
   "source": [
    "move_table = {\"Rock\": {\"Tie\": \"Rock\", \"Win\": \"Paper\", \"Lose\": \"Scissors\"},\n",
    "              \"Paper\": {\"Lose\": \"Rock\", \"Tie\": \"Paper\", \"Win\": \"Scissors\"},\n",
    "              \"Scissors\": {\"Win\": \"Rock\", \"Lose\": \"Paper\", \"Tie\": \"Scissors\"}}"
   ]
  },
  {
   "cell_type": "code",
   "execution_count": 33,
   "id": "3aadb49a",
   "metadata": {},
   "outputs": [],
   "source": [
    "with open('day02.txt', 'r') as file:\n",
    "    lines = file.readlines()"
   ]
  },
  {
   "cell_type": "code",
   "execution_count": 34,
   "id": "a727b8df",
   "metadata": {},
   "outputs": [],
   "source": [
    "total = 0\n",
    "\n",
    "for line in lines:\n",
    "    cleaned_line = line.replace('\\n', '')\n",
    "    \n",
    "    left_move, right_outcome = cleaned_line.split(\" \")\n",
    "    \n",
    "    left_move = parse_left_move(left_move)\n",
    "    outcome = parse_right_outcome(right_outcome)\n",
    "    \n",
    "    right_move = move_table[left_move][outcome]\n",
    "    \n",
    "    score = outcome_score(outcome) + move_score(right_move)\n",
    "    \n",
    "    total += score"
   ]
  },
  {
   "cell_type": "code",
   "execution_count": 35,
   "id": "e0fda4e9",
   "metadata": {},
   "outputs": [
    {
     "data": {
      "text/plain": [
       "12411"
      ]
     },
     "execution_count": 35,
     "metadata": {},
     "output_type": "execute_result"
    }
   ],
   "source": [
    "total"
   ]
  },
  {
   "cell_type": "code",
   "execution_count": null,
   "id": "321f60b5",
   "metadata": {},
   "outputs": [],
   "source": []
  }
 ],
 "metadata": {
  "kernelspec": {
   "display_name": "Python 3 (ipykernel)",
   "language": "python",
   "name": "python3"
  },
  "language_info": {
   "codemirror_mode": {
    "name": "ipython",
    "version": 3
   },
   "file_extension": ".py",
   "mimetype": "text/x-python",
   "name": "python",
   "nbconvert_exporter": "python",
   "pygments_lexer": "ipython3",
   "version": "3.10.6"
  }
 },
 "nbformat": 4,
 "nbformat_minor": 5
}
