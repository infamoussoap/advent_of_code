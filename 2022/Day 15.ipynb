{
 "cells": [
  {
   "cell_type": "markdown",
   "id": "4ac50fb2",
   "metadata": {},
   "source": [
    "# Part 1"
   ]
  },
  {
   "cell_type": "code",
   "execution_count": 4,
   "id": "8c0bd067",
   "metadata": {},
   "outputs": [],
   "source": [
    "def manhatten_distance(loc1, loc2):\n",
    "    return abs(loc1[0] - loc2[0]) + abs(loc1[1] - loc2[1])"
   ]
  },
  {
   "cell_type": "code",
   "execution_count": 5,
   "id": "da595ab9",
   "metadata": {},
   "outputs": [],
   "source": [
    "def parse_location(s):\n",
    "    x_str, y_str = s.split(',')\n",
    "    \n",
    "    return int(x_str[2:]), int(y_str[2:])"
   ]
  },
  {
   "cell_type": "code",
   "execution_count": 139,
   "id": "3ff264d1",
   "metadata": {
    "code_folding": []
   },
   "outputs": [],
   "source": [
    "class Sensor:\n",
    "    def __init__(self, sensor_loc, beacon_loc):\n",
    "        self.sensor_loc = sensor_loc\n",
    "        self.beacon_loc = beacon_loc\n",
    "        \n",
    "        self.max_distance = manhatten_distance(sensor_loc, beacon_loc)\n",
    "\n",
    "    def reach(self, location):\n",
    "        return manhatten_distance(self.sensor_loc, location) <= self.max_distance\n",
    "        \n",
    "    def reachable_locations_on_row(self, row):\n",
    "        col_loc = self.sensor_loc[0]\n",
    "        \n",
    "        distance_to_row = manhatten_distance(self.sensor_loc, (col_loc, row))\n",
    "        slack = self.max_distance - distance_to_row\n",
    "        \n",
    "        if slack >= 0:\n",
    "            return Interval(col_loc - slack, col_loc + slack)\n",
    "            \n",
    "        return Empty()      \n",
    "        \n",
    "class Map:\n",
    "    def __init__(self, sensors):\n",
    "        self.sensors = sensors\n",
    "        \n",
    "        self.sensor_locations = set([s.sensor_loc for s in sensors])\n",
    "        self.beacon_locations = set([s.beacon_loc for s in sensors])\n",
    "        \n",
    "        self.occupied_locations = self.sensor_locations.union(self.beacon_locations)\n",
    "        \n",
    "    def reachable_locations_on_row(self, row):\n",
    "        reachable_locations = Empty()\n",
    "        for sensor in self.sensors:\n",
    "            interval = sensor.reachable_locations_on_row(row)\n",
    "            reachable_locations = reachable_locations.union(interval)\n",
    "            \n",
    "        return reachable_locations"
   ]
  },
  {
   "cell_type": "code",
   "execution_count": 237,
   "id": "e6dab10b",
   "metadata": {
    "code_folding": []
   },
   "outputs": [],
   "source": [
    "class Interval:\n",
    "    def __init__(self, start, end):\n",
    "        assert start <= end\n",
    "        \n",
    "        self.start = start\n",
    "        self.end = end\n",
    "        \n",
    "    def union(self, interval):\n",
    "        if isinstance(interval, Empty):\n",
    "            return self\n",
    "        \n",
    "        min_start, max_start = sorted([self.start, interval.start])\n",
    "        min_end, max_end = sorted([self.end, interval.end])\n",
    "        \n",
    "        if max_start <= min_end:\n",
    "            return Interval(min_start, max_end)\n",
    "        return DisjointInterval([self, interval], simplify=False)\n",
    "    \n",
    "    def __len__(self):\n",
    "        return self.end - self.start + 1\n",
    "    \n",
    "    def contains(self, interval):\n",
    "        return self.start <= interval.start and self.end >= interval.end\n",
    "\n",
    "class Empty:\n",
    "    def __init__(self):\n",
    "        self.start = None\n",
    "        self.end = None\n",
    "    \n",
    "    def __len__(self):\n",
    "        return 0\n",
    "        \n",
    "    def union(self, interval):\n",
    "        return interval\n",
    "    \n",
    "    def contains(self, interval):\n",
    "        return False"
   ]
  },
  {
   "cell_type": "code",
   "execution_count": 239,
   "id": "b7e97529",
   "metadata": {},
   "outputs": [],
   "source": [
    "class DisjointInterval:\n",
    "    def __init__(self, intervals, simplify=True):\n",
    "        if simplify:\n",
    "            self.intervals = self._simplify_intervals(intervals)\n",
    "        else:\n",
    "            self.intervals = intervals\n",
    "        \n",
    "    @staticmethod\n",
    "    def _simplify_intervals(intervals):\n",
    "        sorted_intervals = sorted(intervals, key=lambda x: x.start)\n",
    "        \n",
    "        final_intervals = []\n",
    "        \n",
    "        working_interval = sorted_intervals[0]\n",
    "        for interval in sorted_intervals[1:]:\n",
    "            combined_interval = working_interval.union(interval)\n",
    "            \n",
    "            if isinstance(combined_interval, DisjointInterval):\n",
    "                final_intervals.append(combined_interval.intervals[0])\n",
    "                \n",
    "                working_interval = combined_interval.intervals[1]\n",
    "            else:\n",
    "                working_interval = combined_interval\n",
    "        final_intervals.append(working_interval)\n",
    "        \n",
    "        return final_intervals\n",
    "        \n",
    "    def __len__(self):\n",
    "        return sum([len(interval) for interval in self.intervals])\n",
    "    \n",
    "    def union(self, interval):\n",
    "        if isinstance(interval, Empty):\n",
    "            return self\n",
    "        \n",
    "        elif isinstance(interval, Interval):\n",
    "            return DisjointInterval(self.intervals + [interval])\n",
    "        \n",
    "        return DisjointInterval(self.intervals + interval.intervals)\n",
    "    \n",
    "    def contains(self, interval):\n",
    "        return any([i.contains(interval) for i in self.intervals])"
   ]
  },
  {
   "cell_type": "code",
   "execution_count": 240,
   "id": "0c145f17",
   "metadata": {},
   "outputs": [],
   "source": [
    "with open('data/day15.txt', 'r') as file:\n",
    "    lines = file.readlines()"
   ]
  },
  {
   "cell_type": "code",
   "execution_count": 241,
   "id": "09fa9d47",
   "metadata": {},
   "outputs": [],
   "source": [
    "sensors = []\n",
    "\n",
    "for line in lines:\n",
    "    cleaned_line = line.replace('\\n', '')\n",
    "    cleaned_line = cleaned_line.replace(' ', '')\n",
    "    \n",
    "    sensor_str, beacon_str = cleaned_line.split(':')\n",
    "    \n",
    "    sensor_loc = parse_location(sensor_str[8:])\n",
    "    beacon_loc = parse_location(beacon_str[17:])\n",
    "    \n",
    "    sensors.append(Sensor(sensor_loc, beacon_loc))"
   ]
  },
  {
   "cell_type": "code",
   "execution_count": 242,
   "id": "36981870",
   "metadata": {},
   "outputs": [],
   "source": [
    "row = 2000000"
   ]
  },
  {
   "cell_type": "code",
   "execution_count": 243,
   "id": "a0462d7a",
   "metadata": {},
   "outputs": [],
   "source": [
    "map_ = Map(sensors)"
   ]
  },
  {
   "cell_type": "code",
   "execution_count": 244,
   "id": "57d1455d",
   "metadata": {},
   "outputs": [],
   "source": [
    "reachable_locations = map_.reachable_locations_on_row(row)"
   ]
  },
  {
   "cell_type": "code",
   "execution_count": 245,
   "id": "1870e5ee",
   "metadata": {},
   "outputs": [
    {
     "data": {
      "text/plain": [
       "[(-1207101, 4318889)]"
      ]
     },
     "execution_count": 245,
     "metadata": {},
     "output_type": "execute_result"
    }
   ],
   "source": [
    "[(i.start, i.end) for i in reachable_locations.intervals]"
   ]
  },
  {
   "cell_type": "code",
   "execution_count": 246,
   "id": "387dcf0a",
   "metadata": {
    "scrolled": true
   },
   "outputs": [],
   "source": [
    "occupied_locations = 0\n",
    "unique_beacons = set([sensor.beacon_loc for sensor in map_.sensors])\n",
    "\n",
    "for beacon in unique_beacons:\n",
    "    beacon_col, beacon_row = beacon\n",
    "    if beacon_row == row:\n",
    "        interval = Interval(beacon_col, beacon_col)\n",
    "        occupied_locations += reachable_locations.contains(interval)"
   ]
  },
  {
   "cell_type": "code",
   "execution_count": 247,
   "id": "1cbfb9e6",
   "metadata": {},
   "outputs": [
    {
     "data": {
      "text/plain": [
       "5525990"
      ]
     },
     "execution_count": 247,
     "metadata": {},
     "output_type": "execute_result"
    }
   ],
   "source": [
    "len(reachable_locations) - occupied_locations"
   ]
  },
  {
   "cell_type": "markdown",
   "id": "0bee128d",
   "metadata": {},
   "source": [
    "# Part 2"
   ]
  },
  {
   "cell_type": "code",
   "execution_count": 248,
   "id": "3528c640",
   "metadata": {},
   "outputs": [],
   "source": [
    "max_val = 4000000\n",
    "target_interval = Interval(0, max_val)"
   ]
  },
  {
   "cell_type": "code",
   "execution_count": 251,
   "id": "4a6fe0ae",
   "metadata": {},
   "outputs": [
    {
     "name": "stdout",
     "output_type": "stream",
     "text": [
      "Row: 2628223\n",
      "[(-1333240, 2939042), (2939044, 4145968)]\n"
     ]
    }
   ],
   "source": [
    "for row in range(max_val):\n",
    "    reachable_locations = map_.reachable_locations_on_row(row)\n",
    "    \n",
    "    if not reachable_locations.contains(target_interval):\n",
    "        print(f\"Row: {row}\")\n",
    "        print([(i.start, i.end) for i in reachable_locations.intervals])\n",
    "        break"
   ]
  },
  {
   "cell_type": "code",
   "execution_count": 254,
   "id": "020762c6",
   "metadata": {},
   "outputs": [],
   "source": [
    "x = 2939043\n",
    "y = 2628223"
   ]
  },
  {
   "cell_type": "code",
   "execution_count": 255,
   "id": "10d31808",
   "metadata": {},
   "outputs": [
    {
     "data": {
      "text/plain": [
       "11756174628223"
      ]
     },
     "execution_count": 255,
     "metadata": {},
     "output_type": "execute_result"
    }
   ],
   "source": [
    "x * 4000000 + y"
   ]
  }
 ],
 "metadata": {
  "kernelspec": {
   "display_name": "Python 3 (ipykernel)",
   "language": "python",
   "name": "python3"
  },
  "language_info": {
   "codemirror_mode": {
    "name": "ipython",
    "version": 3
   },
   "file_extension": ".py",
   "mimetype": "text/x-python",
   "name": "python",
   "nbconvert_exporter": "python",
   "pygments_lexer": "ipython3",
   "version": "3.10.6"
  }
 },
 "nbformat": 4,
 "nbformat_minor": 5
}
