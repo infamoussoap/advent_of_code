{
 "cells": [
  {
   "cell_type": "markdown",
   "id": "e62a7c74",
   "metadata": {},
   "source": [
    "# Part 1"
   ]
  },
  {
   "cell_type": "code",
   "execution_count": 10,
   "id": "0fadfb9e",
   "metadata": {},
   "outputs": [],
   "source": [
    "from collections import defaultdict\n",
    "import numpy as np"
   ]
  },
  {
   "cell_type": "code",
   "execution_count": 17,
   "id": "8677f28f",
   "metadata": {},
   "outputs": [],
   "source": [
    "with open('day01.txt', 'r') as file:\n",
    "    lines = file.readlines()"
   ]
  },
  {
   "cell_type": "code",
   "execution_count": 18,
   "id": "5f8d40d6",
   "metadata": {},
   "outputs": [],
   "source": [
    "elves = defaultdict(int)\n",
    "current_elf = 1\n",
    "\n",
    "for line in lines:\n",
    "    cleaned_line = line.replace('\\n', '')\n",
    "    \n",
    "    if len(cleaned_line) == 0:\n",
    "        current_elf += 1\n",
    "    else:\n",
    "        elves[current_elf] += int(cleaned_line)"
   ]
  },
  {
   "cell_type": "code",
   "execution_count": 19,
   "id": "f6835f48",
   "metadata": {},
   "outputs": [
    {
     "data": {
      "text/plain": [
       "69289"
      ]
     },
     "execution_count": 19,
     "metadata": {},
     "output_type": "execute_result"
    }
   ],
   "source": [
    "np.max(list(elves.values()))"
   ]
  },
  {
   "cell_type": "markdown",
   "id": "afdcfbe6",
   "metadata": {},
   "source": [
    "# Part 2"
   ]
  },
  {
   "cell_type": "code",
   "execution_count": 21,
   "id": "12df0095",
   "metadata": {},
   "outputs": [],
   "source": [
    "total_calories = list(elves.values())\n",
    "total_calories = sorted(total_calories, reverse=True)"
   ]
  },
  {
   "cell_type": "code",
   "execution_count": 24,
   "id": "5a9535c9",
   "metadata": {},
   "outputs": [
    {
     "data": {
      "text/plain": [
       "205615"
      ]
     },
     "execution_count": 24,
     "metadata": {},
     "output_type": "execute_result"
    }
   ],
   "source": [
    "sum(total_calories[:3])"
   ]
  },
  {
   "cell_type": "code",
   "execution_count": null,
   "id": "4a4b3675",
   "metadata": {},
   "outputs": [],
   "source": []
  }
 ],
 "metadata": {
  "kernelspec": {
   "display_name": "Python 3 (ipykernel)",
   "language": "python",
   "name": "python3"
  },
  "language_info": {
   "codemirror_mode": {
    "name": "ipython",
    "version": 3
   },
   "file_extension": ".py",
   "mimetype": "text/x-python",
   "name": "python",
   "nbconvert_exporter": "python",
   "pygments_lexer": "ipython3",
   "version": "3.10.6"
  }
 },
 "nbformat": 4,
 "nbformat_minor": 5
}
