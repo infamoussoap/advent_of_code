{
 "cells": [
  {
   "cell_type": "markdown",
   "id": "0575c2a5",
   "metadata": {},
   "source": [
    "# Part 1"
   ]
  },
  {
   "cell_type": "code",
   "execution_count": 9,
   "id": "b721f9c3",
   "metadata": {},
   "outputs": [],
   "source": [
    "with open('data/day06.txt', 'r') as file:\n",
    "    datastream = file.readline()"
   ]
  },
  {
   "cell_type": "code",
   "execution_count": 10,
   "id": "827ff1c3",
   "metadata": {},
   "outputs": [
    {
     "name": "stdout",
     "output_type": "stream",
     "text": [
      "1531 tfcb\n"
     ]
    }
   ],
   "source": [
    "for i in range(4, len(datastream)):\n",
    "    packet = datastream[i - 4 : i]\n",
    "    if len(set(packet)) == 4:\n",
    "        print(i, packet)\n",
    "        break"
   ]
  },
  {
   "cell_type": "markdown",
   "id": "f3c57146",
   "metadata": {},
   "source": [
    "# Part 2"
   ]
  },
  {
   "cell_type": "code",
   "execution_count": 15,
   "id": "3b3c75ca",
   "metadata": {},
   "outputs": [],
   "source": [
    "with open('data/day06.txt', 'r') as file:\n",
    "    datastream = file.readline()"
   ]
  },
  {
   "cell_type": "code",
   "execution_count": 16,
   "id": "8d027898",
   "metadata": {},
   "outputs": [
    {
     "name": "stdout",
     "output_type": "stream",
     "text": [
      "2518 frtblnzhwqmsgv\n"
     ]
    }
   ],
   "source": [
    "for i in range(14, len(datastream)):\n",
    "    packet = datastream[i - 14 : i]\n",
    "    if len(set(packet)) == 14:\n",
    "        print(i, packet)\n",
    "        break"
   ]
  },
  {
   "cell_type": "code",
   "execution_count": null,
   "id": "807bd48d",
   "metadata": {},
   "outputs": [],
   "source": []
  }
 ],
 "metadata": {
  "kernelspec": {
   "display_name": "Python 3 (ipykernel)",
   "language": "python",
   "name": "python3"
  },
  "language_info": {
   "codemirror_mode": {
    "name": "ipython",
    "version": 3
   },
   "file_extension": ".py",
   "mimetype": "text/x-python",
   "name": "python",
   "nbconvert_exporter": "python",
   "pygments_lexer": "ipython3",
   "version": "3.10.6"
  }
 },
 "nbformat": 4,
 "nbformat_minor": 5
}
