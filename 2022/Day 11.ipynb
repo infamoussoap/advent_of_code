{
 "cells": [
  {
   "cell_type": "markdown",
   "id": "86051cf3",
   "metadata": {},
   "source": [
    "# Part 1"
   ]
  },
  {
   "cell_type": "code",
   "execution_count": 1,
   "id": "3129e72b",
   "metadata": {
    "code_folding": [
     0
    ]
   },
   "outputs": [],
   "source": [
    "class Monkey:\n",
    "    def __init__(self, attributes):\n",
    "        self._parse_monkey_attributes(attributes)\n",
    "        self.inspected_items = 0\n",
    "        \n",
    "    def _parse_monkey_attributes(self, attributes):\n",
    "        monkey_name, starting_items, operation, test, if_true, if_false = attributes\n",
    "        \n",
    "        self.name = int(monkey_name[7:-1])\n",
    "        \n",
    "        self.items = [int(x) for x in starting_items[18:].split(',')]\n",
    "        \n",
    "        left_operand, operator, right_operand = operation[19:].split(' ')\n",
    "        self.left_operand = left_operand\n",
    "        self.operator = operator\n",
    "        self.right_operand = right_operand\n",
    "        \n",
    "        self.M = int(test[21:])\n",
    "        \n",
    "        self.if_true_monkey = int(if_true[29:])\n",
    "        self.if_false_monkey = int(if_false[30:])\n",
    "    \n",
    "    def update_item_worry_level(self, worry_level):\n",
    "        left_val = worry_level if self.left_operand == 'old' else int(self.left_operand)\n",
    "        right_val = worry_level if self.right_operand == 'old' else int(self.right_operand)\n",
    "        \n",
    "        return self._compute(self.operator, left_val, right_val) // 3\n",
    "    \n",
    "    @staticmethod\n",
    "    def _compute(operator, left_val, right_val):\n",
    "        # There is an easier way to do this by using the os module, but na\n",
    "        if operator == '-':\n",
    "            return left_val - right_val\n",
    "        elif operator == '+':\n",
    "            return left_val + right_val\n",
    "        elif operator == '*':\n",
    "            return left_val * right_val\n",
    "        elif operator == '/':\n",
    "            return left_val / right_val\n",
    "        raise ValueError(f\"{operator} not understood.\")\n",
    "        \n",
    "    def __repr__(self):\n",
    "        return f\"Monkey {self.name}\""
   ]
  },
  {
   "cell_type": "code",
   "execution_count": 2,
   "id": "92469535",
   "metadata": {
    "code_folding": [
     0
    ]
   },
   "outputs": [],
   "source": [
    "class Troop:\n",
    "    def __init__(self, monkey_attributes):\n",
    "        monkeys = [Monkey(attributes) for attributes in monkey_attributes]\n",
    "        self.monkeys = {monkey.name: monkey for monkey in monkeys}\n",
    "        \n",
    "    def update_troop(self, N=1):\n",
    "        for _ in range(N):\n",
    "            self._update_troop()\n",
    "            \n",
    "    def _update_troop(self):\n",
    "        for i in range(len(self.monkeys)):\n",
    "            self._update_monkey(i)\n",
    "            \n",
    "    def _update_monkey(self, i):\n",
    "        current_monkey = self.monkeys[i]\n",
    "        self._update_monkey_items_worry_level(current_monkey)\n",
    "        \n",
    "        if_true_monkey = self.monkeys[current_monkey.if_true_monkey]\n",
    "        if_false_monkey = self.monkeys[current_monkey.if_false_monkey]\n",
    "        \n",
    "        for worry_level in current_monkey.items:\n",
    "            if worry_level % current_monkey.M == 0:\n",
    "                if_true_monkey.items.append(worry_level)\n",
    "            else:\n",
    "                if_false_monkey.items.append(worry_level)\n",
    "        \n",
    "        current_monkey.items = []\n",
    "        \n",
    "    @staticmethod\n",
    "    def _update_monkey_items_worry_level(monkey):        \n",
    "        for i, worry_level in enumerate(monkey.items):\n",
    "            new_val = monkey.update_item_worry_level(worry_level)\n",
    "            monkey.items[i] = new_val\n",
    "            \n",
    "            monkey.inspected_items += 1\n",
    "\n",
    "    @staticmethod\n",
    "    def _compute(operator, left_val, right_val):\n",
    "        # There is an easier way to do this by using the os module, but na\n",
    "        if operator == '-':\n",
    "            return left_val - right_val\n",
    "        elif operator == '+':\n",
    "            return left_val + right_val\n",
    "        elif operator == '*':\n",
    "            return left_val * right_val\n",
    "        elif operator == '/':\n",
    "            return left_val / right_val\n",
    "        raise ValueError(f\"{operator} not understood.\")"
   ]
  },
  {
   "cell_type": "code",
   "execution_count": 3,
   "id": "8bcb6e30",
   "metadata": {},
   "outputs": [],
   "source": [
    "with open('data/day11.txt', 'r') as file:\n",
    "    lines = file.readlines()"
   ]
  },
  {
   "cell_type": "code",
   "execution_count": 4,
   "id": "803d323c",
   "metadata": {},
   "outputs": [],
   "source": [
    "i = 0\n",
    "monkey_attributes = []\n",
    "\n",
    "while i < len(lines):\n",
    "    monkey_attributes.append([x.replace('\\n', '') for x in lines[i: i + 6]])\n",
    "    i += 7"
   ]
  },
  {
   "cell_type": "code",
   "execution_count": 5,
   "id": "b0ceb61b",
   "metadata": {},
   "outputs": [],
   "source": [
    "troop = Troop(monkey_attributes)"
   ]
  },
  {
   "cell_type": "code",
   "execution_count": 6,
   "id": "4984852d",
   "metadata": {},
   "outputs": [],
   "source": [
    "troop.update_troop(20)"
   ]
  },
  {
   "cell_type": "code",
   "execution_count": 7,
   "id": "125a1998",
   "metadata": {},
   "outputs": [],
   "source": [
    "val1, val2, *vals = sorted([m.inspected_items for m in troop.monkeys.values()], reverse=True)"
   ]
  },
  {
   "cell_type": "code",
   "execution_count": 8,
   "id": "a648dd25",
   "metadata": {},
   "outputs": [
    {
     "data": {
      "text/plain": [
       "90294"
      ]
     },
     "execution_count": 8,
     "metadata": {},
     "output_type": "execute_result"
    }
   ],
   "source": [
    "val1 * val2"
   ]
  },
  {
   "cell_type": "markdown",
   "id": "6d470a77",
   "metadata": {},
   "source": [
    "# Part 2"
   ]
  },
  {
   "cell_type": "code",
   "execution_count": 9,
   "id": "f0a2d79c",
   "metadata": {},
   "outputs": [],
   "source": [
    "from functools import reduce"
   ]
  },
  {
   "cell_type": "code",
   "execution_count": 10,
   "id": "faffb0b1",
   "metadata": {
    "code_folding": [
     0
    ]
   },
   "outputs": [],
   "source": [
    "class MonkeyV2:\n",
    "    def __init__(self, attributes):\n",
    "        self._parse_monkey_attributes(attributes)\n",
    "        self.inspected_items = 0\n",
    "        \n",
    "    def _parse_monkey_attributes(self, attributes):\n",
    "        monkey_name, starting_items, operation, test, if_true, if_false = attributes\n",
    "        \n",
    "        self.name = int(monkey_name[7:-1])\n",
    "        \n",
    "        self.items = [int(x) for x in starting_items[18:].split(',')]\n",
    "        \n",
    "        left_operand, operator, right_operand = operation[19:].split(' ')\n",
    "        self.left_operand = left_operand\n",
    "        self.operator = operator\n",
    "        self.right_operand = right_operand\n",
    "        \n",
    "        self.M = int(test[21:])\n",
    "        \n",
    "        self.if_true_monkey = int(if_true[29:])\n",
    "        self.if_false_monkey = int(if_false[30:])\n",
    "    \n",
    "    def update_item_worry_level(self, worry_level, N):\n",
    "        left_val = worry_level if self.left_operand == 'old' else int(self.left_operand)\n",
    "        right_val = worry_level if self.right_operand == 'old' else int(self.right_operand)\n",
    "        \n",
    "        return self._compute(self.operator, left_val, right_val) % N\n",
    "    \n",
    "    @staticmethod\n",
    "    def _compute(operator, left_val, right_val):\n",
    "        # There is an easier way to do this by using the os module, but na\n",
    "        if operator == '-':\n",
    "            return left_val - right_val\n",
    "        elif operator == '+':\n",
    "            return left_val + right_val\n",
    "        elif operator == '*':\n",
    "            return left_val * right_val\n",
    "        elif operator == '/':\n",
    "            return left_val / right_val\n",
    "        raise ValueError(f\"{operator} not understood.\")\n",
    "        \n",
    "    def __repr__(self):\n",
    "        return f\"Monkey {self.name}\""
   ]
  },
  {
   "cell_type": "code",
   "execution_count": 11,
   "id": "8e59e99b",
   "metadata": {
    "code_folding": []
   },
   "outputs": [],
   "source": [
    "class TroopV2:\n",
    "    def __init__(self, monkey_attributes):\n",
    "        monkeys = [MonkeyV2(attributes) for attributes in monkey_attributes]\n",
    "        self.monkeys = {monkey.name: monkey for monkey in monkeys}\n",
    "        \n",
    "        self.N = reduce(lambda x, y: x * y, \n",
    "                        [monkey.M for monkey in self.monkeys.values()], 1)\n",
    "        \n",
    "    def update_troop(self, N=1):\n",
    "        for _ in range(N):\n",
    "            self._update_troop()\n",
    "            \n",
    "    def _update_troop(self):\n",
    "        for i in range(len(self.monkeys)):\n",
    "            self._update_monkey(i)\n",
    "            \n",
    "    def _update_monkey(self, i):\n",
    "        current_monkey = self.monkeys[i]\n",
    "        self._update_monkey_items_worry_level(current_monkey, self.N)\n",
    "        \n",
    "        if_true_monkey = self.monkeys[current_monkey.if_true_monkey]\n",
    "        if_false_monkey = self.monkeys[current_monkey.if_false_monkey]\n",
    "        \n",
    "        for worry_level in current_monkey.items:\n",
    "            if worry_level % current_monkey.M == 0:\n",
    "                if_true_monkey.items.append(worry_level)\n",
    "            else:\n",
    "                if_false_monkey.items.append(worry_level)\n",
    "        \n",
    "        current_monkey.items = []\n",
    "        \n",
    "    @staticmethod\n",
    "    def _update_monkey_items_worry_level(monkey, N):        \n",
    "        for i, worry_level in enumerate(monkey.items):\n",
    "            new_val = monkey.update_item_worry_level(worry_level, N)\n",
    "            monkey.items[i] = new_val\n",
    "            \n",
    "            monkey.inspected_items += 1\n",
    "\n",
    "    @staticmethod\n",
    "    def _compute(operator, left_val, right_val):\n",
    "        # There is an easier way to do this by using the os module, but na\n",
    "        if operator == '-':\n",
    "            return left_val - right_val\n",
    "        elif operator == '+':\n",
    "            return left_val + right_val\n",
    "        elif operator == '*':\n",
    "            return left_val * right_val\n",
    "        elif operator == '/':\n",
    "            return left_val / right_val\n",
    "        raise ValueError(f\"{operator} not understood.\")"
   ]
  },
  {
   "cell_type": "code",
   "execution_count": 12,
   "id": "cd6fb17c",
   "metadata": {},
   "outputs": [],
   "source": [
    "with open('data/day11.txt', 'r') as file:\n",
    "    lines = file.readlines()"
   ]
  },
  {
   "cell_type": "code",
   "execution_count": 13,
   "id": "57c6a6da",
   "metadata": {},
   "outputs": [],
   "source": [
    "i = 0\n",
    "monkey_attributes = []\n",
    "\n",
    "while i < len(lines):\n",
    "    monkey_attributes.append([x.replace('\\n', '') for x in lines[i: i + 6]])\n",
    "    i += 7"
   ]
  },
  {
   "cell_type": "code",
   "execution_count": 14,
   "id": "aa1d063f",
   "metadata": {},
   "outputs": [],
   "source": [
    "troop = TroopV2(monkey_attributes)"
   ]
  },
  {
   "cell_type": "code",
   "execution_count": 15,
   "id": "b9925c70",
   "metadata": {
    "scrolled": true
   },
   "outputs": [],
   "source": [
    "troop.update_troop(10_000)"
   ]
  },
  {
   "cell_type": "code",
   "execution_count": 16,
   "id": "cc4f7646",
   "metadata": {},
   "outputs": [],
   "source": [
    "val1, val2, *vals = sorted([m.inspected_items for m in troop.monkeys.values()], reverse=True)"
   ]
  },
  {
   "cell_type": "code",
   "execution_count": 17,
   "id": "35f994d8",
   "metadata": {},
   "outputs": [
    {
     "data": {
      "text/plain": [
       "18170818354"
      ]
     },
     "execution_count": 17,
     "metadata": {},
     "output_type": "execute_result"
    }
   ],
   "source": [
    "val1 * val2"
   ]
  }
 ],
 "metadata": {
  "kernelspec": {
   "display_name": "Python 3 (ipykernel)",
   "language": "python",
   "name": "python3"
  },
  "language_info": {
   "codemirror_mode": {
    "name": "ipython",
    "version": 3
   },
   "file_extension": ".py",
   "mimetype": "text/x-python",
   "name": "python",
   "nbconvert_exporter": "python",
   "pygments_lexer": "ipython3",
   "version": "3.10.6"
  }
 },
 "nbformat": 4,
 "nbformat_minor": 5
}
