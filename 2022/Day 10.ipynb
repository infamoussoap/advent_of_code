{
 "cells": [
  {
   "cell_type": "markdown",
   "id": "a5ac9657",
   "metadata": {},
   "source": [
    "# Part 1"
   ]
  },
  {
   "cell_type": "code",
   "execution_count": 15,
   "id": "d8fd74d9",
   "metadata": {},
   "outputs": [],
   "source": [
    "class Register:\n",
    "    def __init__(self):\n",
    "        self.X = 1\n",
    "        self.started_cycle = 0\n",
    "        self.completed_cycle = 0\n",
    "        \n",
    "        self.history = []\n",
    "        \n",
    "    def __call__(self, instruction):\n",
    "        if instruction == \"noop\":\n",
    "            self._cycle_register()\n",
    "        else:\n",
    "            _, val = instruction.split(\" \")\n",
    "            \n",
    "            self._cycle_register()\n",
    "            self._cycle_register(int(val))\n",
    "        \n",
    "    def _cycle_register(self, val=None):\n",
    "        self.started_cycle += 1\n",
    "        self._save_register_value()\n",
    "        \n",
    "        if val is not None:\n",
    "            self.X += val\n",
    "        \n",
    "        self.completed_cycle += 1\n",
    "        \n",
    "    def _save_register_value(self):\n",
    "        if (self.started_cycle - 20) % 40 == 0:\n",
    "            self.history.append(self.X * self.started_cycle)"
   ]
  },
  {
   "cell_type": "code",
   "execution_count": 18,
   "id": "998411bc",
   "metadata": {},
   "outputs": [],
   "source": [
    "with open('data/day10.txt', 'r') as file:\n",
    "    lines = file.readlines()"
   ]
  },
  {
   "cell_type": "code",
   "execution_count": 19,
   "id": "3e89fddf",
   "metadata": {},
   "outputs": [],
   "source": [
    "register = Register()\n",
    "\n",
    "for line in lines:\n",
    "    cleaned_line = line.replace('\\n', '')\n",
    "    register(cleaned_line)"
   ]
  },
  {
   "cell_type": "code",
   "execution_count": 20,
   "id": "f953cb4c",
   "metadata": {},
   "outputs": [
    {
     "data": {
      "text/plain": [
       "14780"
      ]
     },
     "execution_count": 20,
     "metadata": {},
     "output_type": "execute_result"
    }
   ],
   "source": [
    "sum(register.history)"
   ]
  },
  {
   "cell_type": "markdown",
   "id": "de6b615f",
   "metadata": {},
   "source": [
    "# Part 2"
   ]
  },
  {
   "cell_type": "code",
   "execution_count": 47,
   "id": "265dbcd3",
   "metadata": {},
   "outputs": [],
   "source": [
    "class CRT:\n",
    "    def __init__(self):\n",
    "        self.sprite_position = 1\n",
    "        \n",
    "        self.started_cycle = 0\n",
    "        self.completed_cycle = 0\n",
    "        \n",
    "        self.drawn_pixels = ['']\n",
    "        \n",
    "    def __call__(self, instruction):\n",
    "        if instruction == \"noop\":\n",
    "            self._cycle_register()\n",
    "        else:\n",
    "            _, val = instruction.split(\" \")\n",
    "            \n",
    "            self._cycle_register()\n",
    "            self._cycle_register(int(val))\n",
    "        \n",
    "    def _cycle_register(self, val=None):\n",
    "        self.started_cycle += 1\n",
    "        self._draw_pixel()\n",
    "        \n",
    "        if val is not None:\n",
    "            self.sprite_position += val\n",
    "        \n",
    "        self.completed_cycle += 1\n",
    "        \n",
    "    def _draw_pixel(self):\n",
    "        if len(self.drawn_pixels[-1]) == 40:\n",
    "            self.drawn_pixels.append('')\n",
    "            \n",
    "        if abs(self.sprite_position - self.ray_position) <= 1:\n",
    "            self.drawn_pixels[-1] += \"#\"\n",
    "        else:\n",
    "            self.drawn_pixels[-1] += \".\"\n",
    "       \n",
    "    @property\n",
    "    def ray_position(self):\n",
    "        return (self.started_cycle - 1) % 40"
   ]
  },
  {
   "cell_type": "code",
   "execution_count": 51,
   "id": "f30f7ee1",
   "metadata": {},
   "outputs": [],
   "source": [
    "with open('data/day10.txt', 'r') as file:\n",
    "    lines = file.readlines()"
   ]
  },
  {
   "cell_type": "code",
   "execution_count": 52,
   "id": "7bba87c7",
   "metadata": {},
   "outputs": [],
   "source": [
    "crt = CRT()\n",
    "\n",
    "for line in lines:\n",
    "    cleaned_line = line.replace('\\n', '')\n",
    "    crt(cleaned_line)"
   ]
  },
  {
   "cell_type": "code",
   "execution_count": 53,
   "id": "18fdf91c",
   "metadata": {},
   "outputs": [
    {
     "data": {
      "text/plain": [
       "['####.#....###..#....####..##..####.#....',\n",
       " '#....#....#..#.#.......#.#..#....#.#....',\n",
       " '###..#....#..#.#......#..#......#..#....',\n",
       " '#....#....###..#.....#...#.##..#...#....',\n",
       " '#....#....#....#....#....#..#.#....#....',\n",
       " '####.####.#....####.####..###.####.####.']"
      ]
     },
     "execution_count": 53,
     "metadata": {},
     "output_type": "execute_result"
    }
   ],
   "source": [
    "crt.drawn_pixels"
   ]
  }
 ],
 "metadata": {
  "kernelspec": {
   "display_name": "Python 3 (ipykernel)",
   "language": "python",
   "name": "python3"
  },
  "language_info": {
   "codemirror_mode": {
    "name": "ipython",
    "version": 3
   },
   "file_extension": ".py",
   "mimetype": "text/x-python",
   "name": "python",
   "nbconvert_exporter": "python",
   "pygments_lexer": "ipython3",
   "version": "3.10.6"
  }
 },
 "nbformat": 4,
 "nbformat_minor": 5
}
