{
 "cells": [
  {
   "cell_type": "markdown",
   "id": "b9e1b51e",
   "metadata": {},
   "source": [
    "# Part 1\n",
    "\n",
    "How many passwords are valid according to their policies?"
   ]
  },
  {
   "cell_type": "code",
   "execution_count": 3,
   "id": "c4fa23c5",
   "metadata": {},
   "outputs": [],
   "source": [
    "with open('02_inputs.txt') as f:\n",
    "    out = f.read()\n",
    "    \n",
    "entries = out.split(\"\\n\")"
   ]
  },
  {
   "cell_type": "code",
   "execution_count": 7,
   "id": "f071856b",
   "metadata": {},
   "outputs": [],
   "source": [
    "def count_letter_in_password(letter, password):\n",
    "    count = 0\n",
    "    for char in password:\n",
    "        count += letter == char\n",
    "    return count"
   ]
  },
  {
   "cell_type": "code",
   "execution_count": 11,
   "id": "f972271f",
   "metadata": {},
   "outputs": [],
   "source": [
    "count = 0\n",
    "\n",
    "for x in entries:\n",
    "    count_range, letter, password = x.split(\" \")\n",
    "    letter = letter[0]\n",
    "    \n",
    "    min_count, max_count = count_range.split(\"-\")\n",
    "    min_count, max_count = int(min_count), int(max_count)\n",
    "    \n",
    "    letter_count = count_letter_in_password(letter, password)\n",
    "    \n",
    "    count += min_count <= letter_count <= max_count"
   ]
  },
  {
   "cell_type": "code",
   "execution_count": 12,
   "id": "b5df4c8d",
   "metadata": {},
   "outputs": [
    {
     "data": {
      "text/plain": [
       "542"
      ]
     },
     "execution_count": 12,
     "metadata": {},
     "output_type": "execute_result"
    }
   ],
   "source": [
    "count"
   ]
  },
  {
   "cell_type": "markdown",
   "id": "2f2cfff8",
   "metadata": {},
   "source": [
    "# Part 2\n",
    "\n",
    "How many passwords are valid according to the new interpretation of the policies?"
   ]
  },
  {
   "cell_type": "code",
   "execution_count": 17,
   "id": "22149f90",
   "metadata": {},
   "outputs": [],
   "source": [
    "def valid_password(letter, password, index1, index2):\n",
    "    letter1 = password[index1]\n",
    "    letter2 = password[index2]\n",
    "    \n",
    "    return (letter1 == letter) ^ (letter2 == letter)"
   ]
  },
  {
   "cell_type": "code",
   "execution_count": 19,
   "id": "043f9756",
   "metadata": {},
   "outputs": [],
   "source": [
    "count = 0\n",
    "\n",
    "for x in entries:\n",
    "    valid_indexs, letter, password = x.split(\" \")\n",
    "    letter = letter[0]\n",
    "    \n",
    "    i, j = valid_indexs.split(\"-\")\n",
    "    i, j = int(i) - 1, int(j) - 1  # Conver to 0 indexing\n",
    "    \n",
    "    count += valid_password(letter, password, i, j)"
   ]
  },
  {
   "cell_type": "code",
   "execution_count": 20,
   "id": "e13df3c6",
   "metadata": {},
   "outputs": [
    {
     "data": {
      "text/plain": [
       "360"
      ]
     },
     "execution_count": 20,
     "metadata": {},
     "output_type": "execute_result"
    }
   ],
   "source": [
    "count"
   ]
  },
  {
   "cell_type": "code",
   "execution_count": null,
   "id": "6581056b",
   "metadata": {},
   "outputs": [],
   "source": []
  }
 ],
 "metadata": {
  "kernelspec": {
   "display_name": "Python 3 (ipykernel)",
   "language": "python",
   "name": "python3"
  },
  "language_info": {
   "codemirror_mode": {
    "name": "ipython",
    "version": 3
   },
   "file_extension": ".py",
   "mimetype": "text/x-python",
   "name": "python",
   "nbconvert_exporter": "python",
   "pygments_lexer": "ipython3",
   "version": "3.9.12"
  }
 },
 "nbformat": 4,
 "nbformat_minor": 5
}
