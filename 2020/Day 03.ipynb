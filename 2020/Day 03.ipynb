{
 "cells": [
  {
   "cell_type": "markdown",
   "id": "387d7b95",
   "metadata": {},
   "source": [
    "# Part 1"
   ]
  },
  {
   "cell_type": "code",
   "execution_count": null,
   "id": "9a0ba7f5",
   "metadata": {},
   "outputs": [],
   "source": [
    "with open('02_inputs.txt') as f:\n",
    "    out = f.read()\n",
    "    \n",
    "entries = out.split(\"\\n\")"
   ]
  }
 ],
 "metadata": {
  "kernelspec": {
   "display_name": "Python 3 (ipykernel)",
   "language": "python",
   "name": "python3"
  },
  "language_info": {
   "codemirror_mode": {
    "name": "ipython",
    "version": 3
   },
   "file_extension": ".py",
   "mimetype": "text/x-python",
   "name": "python",
   "nbconvert_exporter": "python",
   "pygments_lexer": "ipython3",
   "version": "3.9.12"
  }
 },
 "nbformat": 4,
 "nbformat_minor": 5
}
